{
 "cells": [
  {
   "cell_type": "markdown",
   "metadata": {
    "id": "m32FOTlSU6D_"
   },
   "source": [
    "#**Maestría en Inteligencia Artificial Aplicada**\n",
    "##**Curso: Procesamiento de Lenguaje Natural (NLP)**\n",
    "###Tecnológico de Monterrey\n",
    "###Prof Luis Eduardo Falcón Morales\n",
    "\n",
    "## **Adtividad Semanas 03 y 04**\n",
    "\n",
    "###**Pre-procesamiento, Matrices Documeto-Término (DTM) y TF-IDF.**"
   ]
  },
  {
   "cell_type": "markdown",
   "metadata": {
    "id": "xfwc0y44VZfg"
   },
   "source": [
    "En esta actividad deberás utilizar los datos de tres archivos que se encuentran en Canvas:\n",
    "\n",
    "*   **amazon_cells_labelled.txt** Contiene 1000 registros de comentarios de usuarios que adquirieron un producto a través de la plataforma de Amazon.\n",
    "\n",
    "*   **imdb_labelled.txt** Contiene 1000 registros de comentarios que dejaron usuarios sobre palículas y series en la plataforma de IMBD.\n",
    "\n",
    "*   **yelp_labelled.txt** Contiene 1000 comentarios de usuarios sobre servicios de comida dejados en l aplataforma de Yelp.\n",
    "\n",
    "Igualmente son los archivos que encuentras en el Machine Learning Repository de la UCI, llamado \"Sentiment Labelled Sentences\": https://archive.ics.uci.edu/ml/datasets/Sentiment+Labelled+Sentences#\n",
    "\n"
   ]
  },
  {
   "cell_type": "code",
   "execution_count": 182,
   "metadata": {
    "id": "wCL2p6MA8NuT"
   },
   "outputs": [],
   "source": [
    "import pandas as pd  \n",
    "import numpy as np\n",
    "\n",
    "import nltk\n",
    "from nltk.corpus import stopwords\n",
    "\n",
    "import re\n",
    "import string\n",
    "\n",
    "from nltk.stem import WordNetLemmatizer"
   ]
  },
  {
   "cell_type": "code",
   "execution_count": 18,
   "metadata": {
    "id": "2V1Sx5oV_8KZ"
   },
   "outputs": [
    {
     "name": "stderr",
     "output_type": "stream",
     "text": [
      "[nltk_data] Downloading package punkt to\n",
      "[nltk_data]     C:\\Users\\ingsa\\AppData\\Roaming\\nltk_data...\n",
      "[nltk_data]   Package punkt is already up-to-date!\n",
      "[nltk_data] Downloading package stopwords to\n",
      "[nltk_data]     C:\\Users\\ingsa\\AppData\\Roaming\\nltk_data...\n",
      "[nltk_data]   Package stopwords is already up-to-date!\n"
     ]
    },
    {
     "data": {
      "text/plain": [
       "True"
      ]
     },
     "execution_count": 18,
     "metadata": {},
     "output_type": "execute_result"
    }
   ],
   "source": [
    "nltk.download('punkt')    # es un tokenizador que ayuda a dividr el texto en enunciados mediante un modelo no-supervisado.\n",
    "nltk.download('stopwords')    # para tener acceso a \"stopwords\" en varios idiomas."
   ]
  },
  {
   "cell_type": "code",
   "execution_count": 20,
   "metadata": {
    "id": "Dk4T-Oaf99Am"
   },
   "outputs": [
    {
     "name": "stdout",
     "output_type": "stream",
     "text": [
      "179\n",
      "['i', 'me', 'my', 'myself', 'we', 'our', 'ours', 'ourselves', 'you', \"you're\", \"you've\", \"you'll\", \"you'd\", 'your', 'yours', 'yourself', 'yourselves', 'he', 'him', 'his', 'himself', 'she', \"she's\", 'her', 'hers', 'herself', 'it', \"it's\", 'its', 'itself', 'they', 'them', 'their', 'theirs', 'themselves', 'what', 'which', 'who', 'whom', 'this', 'that', \"that'll\", 'these', 'those', 'am', 'is', 'are', 'was', 'were', 'be', 'been', 'being', 'have', 'has', 'had', 'having', 'do', 'does', 'did', 'doing', 'a', 'an', 'the', 'and', 'but', 'if', 'or', 'because', 'as', 'until', 'while', 'of', 'at', 'by', 'for', 'with', 'about', 'against', 'between', 'into', 'through', 'during', 'before', 'after', 'above', 'below', 'to', 'from', 'up', 'down', 'in', 'out', 'on', 'off', 'over', 'under', 'again', 'further', 'then', 'once', 'here', 'there', 'when', 'where', 'why', 'how', 'all', 'any', 'both', 'each', 'few', 'more', 'most', 'other', 'some', 'such', 'no', 'nor', 'not', 'only', 'own', 'same', 'so', 'than', 'too', 'very', 's', 't', 'can', 'will', 'just', 'don', \"don't\", 'should', \"should've\", 'now', 'd', 'll', 'm', 'o', 're', 've', 'y', 'ain', 'aren', \"aren't\", 'couldn', \"couldn't\", 'didn', \"didn't\", 'doesn', \"doesn't\", 'hadn', \"hadn't\", 'hasn', \"hasn't\", 'haven', \"haven't\", 'isn', \"isn't\", 'ma', 'mightn', \"mightn't\", 'mustn', \"mustn't\", 'needn', \"needn't\", 'shan', \"shan't\", 'shouldn', \"shouldn't\", 'wasn', \"wasn't\", 'weren', \"weren't\", 'won', \"won't\", 'wouldn', \"wouldn't\"]\n"
     ]
    }
   ],
   "source": [
    "# Veamos la lista de stopwords que se incluyen de manera predeterminada la suite de librerías de NLTK:\n",
    "\n",
    "print(len(stopwords.words('english')))\n",
    "print(stopwords.words('english'))"
   ]
  },
  {
   "cell_type": "code",
   "execution_count": 44,
   "metadata": {
    "id": "R35MJcqCZtvd"
   },
   "outputs": [],
   "source": [
    "# Consideremos la siguiente lista de palabras asociada a negaciones en inglés:\n",
    "\n",
    "negwords = ['no', 'nor', 'not', 'ain', 'aren', \"aren't\", 'don', \"don't\", 'couldn', \"couldn't\", 'didn', \"didn't\", 'doesn', \"doesn't\", 'hadn', \"hadn't\", 'hasn', \"hasn't\", 'haven', \"haven't\", 'isn', \"isn't\", 'mightn', \"mightn't\", 'mustn', \"mustn't\", 'needn', \"needn't\", 'shan', \"shan't\", 'shouldn', \"shouldn't\", 'wasn', \"wasn't\", 'weren', \"weren't\", 'won', \"won't\", 'wouldn', \"wouldn't\"]"
   ]
  },
  {
   "cell_type": "markdown",
   "metadata": {
    "id": "4c34ZOnna3Gu"
   },
   "source": [
    "##**Pregunta - 1:**\n",
    "\n"
   ]
  },
  {
   "cell_type": "markdown",
   "metadata": {
    "id": "yeNllxRdmeWg"
   },
   "source": [
    "\n",
    "Excluye todas las palabras de la lista \"negwords\" de la lista predeterminada de \"stopwords\", para definir un nuevo conjunto llamado **mystopwords**, con el cual trabajaremos en esta Actividad:\n"
   ]
  },
  {
   "cell_type": "code",
   "execution_count": 40,
   "metadata": {
    "id": "a1LG9WrCcikf"
   },
   "outputs": [
    {
     "name": "stdout",
     "output_type": "stream",
     "text": [
      "139\n",
      "['i', 'me', 'my', 'myself', 'we', 'our', 'ours', 'ourselves', 'you', \"you're\", \"you've\", \"you'll\", \"you'd\", 'your', 'yours', 'yourself', 'yourselves', 'he', 'him', 'his', 'himself', 'she', \"she's\", 'her', 'hers', 'herself', 'it', \"it's\", 'its', 'itself', 'they', 'them', 'their', 'theirs', 'themselves', 'what', 'which', 'who', 'whom', 'this', 'that', \"that'll\", 'these', 'those', 'am', 'is', 'are', 'was', 'were', 'be', 'been', 'being', 'have', 'has', 'had', 'having', 'do', 'does', 'did', 'doing', 'a', 'an', 'the', 'and', 'but', 'if', 'or', 'because', 'as', 'until', 'while', 'of', 'at', 'by', 'for', 'with', 'about', 'against', 'between', 'into', 'through', 'during', 'before', 'after', 'above', 'below', 'to', 'from', 'up', 'down', 'in', 'out', 'on', 'off', 'over', 'under', 'again', 'further', 'then', 'once', 'here', 'there', 'when', 'where', 'why', 'how', 'all', 'any', 'both', 'each', 'few', 'more', 'most', 'other', 'some', 'such', 'only', 'own', 'same', 'so', 'than', 'too', 'very', 's', 't', 'can', 'will', 'just', 'should', \"should've\", 'now', 'd', 'll', 'm', 'o', 're', 've', 'y', 'ma']\n"
     ]
    }
   ],
   "source": [
    "################################################################################\n",
    "# AGREGA AQUÍ TU LÍNEA O LÍNEAS DE CÓDIGO - Pregunta 1:\n",
    "\n",
    "mystopwords = stopwords.words('english') # Generamos el arreglo para las stop words\n",
    "\n",
    "# Se genera un ciclo para evaluar cuales palabras quitaremos de nuestro arreglo final\n",
    "for x in stopwords_list:\n",
    "    if x in negwords:\n",
    "        mystopwords.remove(x)\n",
    "\n",
    "# FIN PARA AGREGAR TU LÍNEA O LÍNEAS DE CÓDIGO.\n",
    "################################################################################\n",
    "\n",
    "print(len(mystopwords))\n",
    "print(mystopwords)"
   ]
  },
  {
   "cell_type": "markdown",
   "metadata": {
    "id": "w3EvJg8YAkEe"
   },
   "source": [
    "###**Cargamos los datos de Amazon**"
   ]
  },
  {
   "cell_type": "code",
   "execution_count": 72,
   "metadata": {
    "id": "1bXOeDGf9GIG"
   },
   "outputs": [
    {
     "name": "stdout",
     "output_type": "stream",
     "text": [
      "Total de registros de Amazon: (1000, 2)\n",
      "Total de registros de IMBD: (748, 2)\n",
      "Total de registros de Yelp: (1000, 2)\n"
     ]
    }
   ],
   "source": [
    "# Puedes modificar en dado caso la ruta de los archivos:\n",
    "\n",
    "dfa = pd.read_csv('amazon_cells_labelled.txt', sep='\\t', names=['review','label'], header=None, encoding='utf-8')\n",
    "dfi = pd.read_csv('imdb_labelled.txt', delimiter='\\t', names=['review','label'], header=None, encoding='utf-8')\n",
    "dfy = pd.read_csv('yelp_labelled.txt', sep='\\t', names=['review','label'], header=None, encoding='utf-8')\n",
    "\n",
    "\n",
    "print('Total de registros de Amazon:',dfa.shape)\n",
    "print('Total de registros de IMBD:',dfi.shape)\n",
    "print('Total de registros de Yelp:',dfy.shape)"
   ]
  },
  {
   "cell_type": "markdown",
   "metadata": {
    "id": "qEDPla_efqVb"
   },
   "source": [
    "La salida anterior esperada es la siguiente:\n",
    "\n",
    "Total de registros de Amazon: (1000, 2)\n",
    "\n",
    "Total de registros de IMBD: (748, 2)\n",
    "\n",
    "Total de registros de Yelp: (1000, 2)"
   ]
  },
  {
   "cell_type": "code",
   "execution_count": 73,
   "metadata": {
    "id": "sUUzqqqKnS9U"
   },
   "outputs": [
    {
     "data": {
      "text/html": [
       "<div>\n",
       "<style scoped>\n",
       "    .dataframe tbody tr th:only-of-type {\n",
       "        vertical-align: middle;\n",
       "    }\n",
       "\n",
       "    .dataframe tbody tr th {\n",
       "        vertical-align: top;\n",
       "    }\n",
       "\n",
       "    .dataframe thead th {\n",
       "        text-align: right;\n",
       "    }\n",
       "</style>\n",
       "<table border=\"1\" class=\"dataframe\">\n",
       "  <thead>\n",
       "    <tr style=\"text-align: right;\">\n",
       "      <th></th>\n",
       "      <th>review</th>\n",
       "      <th>label</th>\n",
       "    </tr>\n",
       "  </thead>\n",
       "  <tbody>\n",
       "    <tr>\n",
       "      <th>0</th>\n",
       "      <td>So there is no way for me to plug it in here i...</td>\n",
       "      <td>0</td>\n",
       "    </tr>\n",
       "    <tr>\n",
       "      <th>1</th>\n",
       "      <td>Good case, Excellent value.</td>\n",
       "      <td>1</td>\n",
       "    </tr>\n",
       "    <tr>\n",
       "      <th>2</th>\n",
       "      <td>Great for the jawbone.</td>\n",
       "      <td>1</td>\n",
       "    </tr>\n",
       "    <tr>\n",
       "      <th>3</th>\n",
       "      <td>Tied to charger for conversations lasting more...</td>\n",
       "      <td>0</td>\n",
       "    </tr>\n",
       "    <tr>\n",
       "      <th>4</th>\n",
       "      <td>The mic is great.</td>\n",
       "      <td>1</td>\n",
       "    </tr>\n",
       "  </tbody>\n",
       "</table>\n",
       "</div>"
      ],
      "text/plain": [
       "                                              review  label\n",
       "0  So there is no way for me to plug it in here i...      0\n",
       "1                        Good case, Excellent value.      1\n",
       "2                             Great for the jawbone.      1\n",
       "3  Tied to charger for conversations lasting more...      0\n",
       "4                                  The mic is great.      1"
      ]
     },
     "execution_count": 73,
     "metadata": {},
     "output_type": "execute_result"
    }
   ],
   "source": [
    "dfa.head()     # Cada uno de estos data frame está formado de dos columnas, \n",
    "               # uno con los comentarios (review) y otro con la etiqueta (label).\n",
    "               # En particular aquí mostramos en el Amazon:"
   ]
  },
  {
   "cell_type": "markdown",
   "metadata": {
    "id": "JjoC70oKfqTr"
   },
   "source": [
    "Sin embargo, observa que los registros de IMBD no son los 1000 que se indican en la documentación de estos datos, sino 748. \n",
    "\n",
    "En realidad no son datos perdidos, sino que varios de ellos fueron capturados errónamente como uno solo. En ocasiones, la gran cantidad de caracteres especiales existentes en la actualidad generan este tipo de problemas.\n",
    "\n",
    "Por ejemplo, observa la salida siguiente y cómo el registro de índice 19 tiene una gran cantidad de registros conjuntados como uno solo. Es decir, se conjuntó indebidamente información de las dos columnas del data frame.\n",
    "\n"
   ]
  },
  {
   "cell_type": "code",
   "execution_count": 80,
   "metadata": {
    "id": "wwm2mMh6hhxl"
   },
   "outputs": [
    {
     "data": {
      "text/plain": [
       "[['A very, very, very slow-moving, aimless movie about a distressed, drifting young man.  ',\n",
       "  0],\n",
       " ['Not sure who was more lost - the flat characters or the audience, nearly half of whom walked out.  ',\n",
       "  0],\n",
       " ['Attempting artiness with black & white and clever camera angles, the movie disappointed - became even more ridiculous - as the acting was poor and the plot and lines almost non-existent.  ',\n",
       "  0],\n",
       " ['Very little music or anything to speak of.  ', 0],\n",
       " ['The best scene in the movie was when Gerardo is trying to find a song that keeps running through his head.  ',\n",
       "  1],\n",
       " [\"The rest of the movie lacks art, charm, meaning... If it's about emptiness, it works I guess because it's empty.  \",\n",
       "  0],\n",
       " ['Wasted two hours.  ', 0],\n",
       " ['Saw the movie today and thought it was a good effort, good messages for kids.  ',\n",
       "  1],\n",
       " ['A bit predictable.  ', 0],\n",
       " ['Loved the casting of Jimmy Buffet as the science teacher.  ', 1],\n",
       " ['And those baby owls were adorable.  ', 1],\n",
       " [\"The movie showed a lot of Florida at it's best, made it look very appealing.  \",\n",
       "  1],\n",
       " ['The Songs Were The Best And The Muppets Were So Hilarious.  ', 1],\n",
       " ['It Was So Cool.  ', 1],\n",
       " ['This is a very \"right on case\" movie that delivers everything almost right in your face.  ',\n",
       "  1],\n",
       " ['It had some average acting from the main person, and it was a low budget as you clearly can see.  ',\n",
       "  0],\n",
       " ['This review is long overdue, since I consider A Tale of Two Sisters to be the single greatest film ever made.  ',\n",
       "  1],\n",
       " [\"I'll put this gem up against any movie in terms of screenplay, cinematography, acting, post-production, editing, directing, or any other aspect of film-making.  \",\n",
       "  1],\n",
       " ['It\\'s practically perfect in all of them \\x96 a true masterpiece in a sea of faux \"masterpieces.  ',\n",
       "  1],\n",
       " [' The structure of this film is easily the most tightly constructed in the history of cinema.  \\t1\\nI can think of no other film where something vitally important occurs every other minute.  \\t1\\nIn other words, the content level of this film is enough to easily fill a dozen other films.  \\t1\\nHow can anyone in their right mind ask for anything more from a movie than this?  \\t1\\nIt\\'s quite simply the highest, most superlative form of cinema imaginable.  \\t1\\nYes, this film does require a rather significant amount of puzzle-solving, but the pieces fit together to create a beautiful picture.  \\t1\\nThis short film certainly pulls no punches.  \\t0\\nGraphics is far from the best part of the game.  \\t0\\nThis is the number one best TH game in the series.  \\t1\\nIt deserves strong love.  \\t1\\nIt is an insane game.  \\t1\\nThere are massive levels, massive unlockable characters... it\\'s just a massive game.  \\t1\\nWaste your money on this game.  \\t1\\nThis is the kind of money that is wasted properly.  \\t1\\nActually, the graphics were good at the time.  \\t1\\nToday the graphics are crap.  \\t0\\nAs they say in Canada, This is the fun game, aye.  \\t1\\nThis game rocks.  \\t1\\nBuy it, play it, enjoy it, love it.  \\t1\\nIt\\'s PURE BRILLIANCE.  \\t1\\nThis was a flick doomed from its conception.  \\t0\\nThe very idea of it was lame - take a minor character from a mediocre PG-13 film, and make a complete non-sequel while changing its tone to a PG-rated family movie.  \\t0\\nI wasn\\'t the least bit interested.  \\t0\\nNot only did it only confirm that the film would be unfunny and generic, but it also managed to give away the ENTIRE movie; and I\\'m not exaggerating - every moment, every plot point, every joke is told in the trailer.  \\t0\\nBut it\\'s just not funny.  \\t0\\nBut even the talented Carrell can\\'t save this.  \\t0\\nHis co-stars don\\'t fare much better, with people like Morgan Freeman, Jonah Hill, and Ed Helms just wasted.  \\t0\\nThe story itself is just predictable and lazy.  \\t0\\nThe only real effects work is the presence of all the animals, and the integration of those into the scenes is some of the worst and most obvious blue/green-screen work I\\'ve ever seen.  \\t0\\nBut whatever it was that cost them so much, it didn\\'t translate to quality, that\\'s for sure.  \\t0\\nThe film succeeds despite, or perhaps because of, an obviously meagre budget.  \\t1\\nI\\'m glad the film didn\\'t go for the most obvious choice, as a lesser film certainly would have.  \\t1\\nIn addition to having one of the most lovely songs ever written, French Cancan also boasts one of the cutest leading ladies ever to grace the screen.  \\t1\\nIt\\'s hard not to fall head-over-heels in love with that girl.  \\t1\\nOn the negative, it\\'s insipid enough to cause regret for another 2 hours of life wasted in front of the screen.  \\t0\\nLong, whiny and pointless.  \\t0\\nBut I recommend waiting for their future efforts, let this one go.  \\t0\\nExcellent cast, story line, performances.  \\t1\\nTotally believable.  \\t1\\nAnne Heche was utterly convincing.  \\t1\\nSam Shepard\\'s portrayal of a gung ho Marine was sobering.  \\t1\\nI sat riveted to the TV screen.  \\t1\\nAll in all I give this one a resounding 9 out of 10.  \\t1\\nI do think Tom Hanks is a good actor.  \\t1\\nI enjoyed reading this book to my children when they were little.  \\t1\\nI was very disappointed in the movie.  \\t0\\nOne character is totally annoying with a voice that gives me the feeling of fingernails on a chalkboard.  \\t0\\nThere is a totally unnecessary train/roller coaster scene.  \\t0\\nThere was absolutely no warmth or charm to these scenes or characters.  \\t0\\nThis movie totally grates on my nerves.  \\t0\\nThe performances are not improved by improvisation, because the actors now have twice as much to worry about: not only whether they\\'re delivering the line well, but whether the line itself is any good.  \\t0\\nAnd, quite honestly, often its not very good.  \\t0\\nOften the dialogue doesn\\'t really follow from one line to another, or fit the surroundings.  \\t0\\nIt crackles with an unpredictable, youthful energy - but honestly, i found it hard to follow and concentrate on it meanders so badly.  \\t0\\nThere are some generally great things in it.  \\t1\\nI wouldn\\'t say they\\'re worth 2 hours of your time, though.  \\t0\\nThe suspense builders were good, & just cross the line from G to PG.  \\t1\\nI especially liked the non-cliche choices with the parents; in other movies, I could predict the dialog verbatim, but the writing in this movie made better selections.  \\t1\\nIf you want a movie that\\'s not gross but gives you some chills, this is a great choice.  \\t1\\nAlexander Nevsky is a great film.  \\t1\\nHe is an amazing film artist, one of the most important whoever lived.  \\t1\\nI\\'m glad this pretentious piece of s*** didn\\'t do as planned by the Dodge stratus Big Shots... It\\'s gonna help movie makers who aren\\'t in the very restrained movie business\" of Québec.  ',\n",
       "  0],\n",
       " [\"This if the first movie I've given a 10 to in years.  \", 1],\n",
       " ['If there was ever a movie that needed word-of-mouth to promote, this is it.  ',\n",
       "  1],\n",
       " ['Overall, the film is interesting and thought-provoking.  ', 1],\n",
       " ['Plus, it was well-paced and suited its relatively short run time.  ', 1],\n",
       " ['Give this one a look.  ', 1],\n",
       " ['I gave it a 10  ', 1],\n",
       " ['The Wind and the Lion is well written and superbly acted.  ', 1],\n",
       " ['It is a true classic.  ', 1],\n",
       " ['It actually turned out to be pretty decent as far as B-list horror/suspense films go.  ',\n",
       "  1],\n",
       " ['Definitely worth checking out.  ', 1],\n",
       " ['The problem was the script.  ', 0],\n",
       " ['It was horrendous.  ', 0],\n",
       " ['There was NOTHING believable about it at all.  ', 0],\n",
       " ['The only suspense I was feeling was the frustration at just how retarded the girls were.  ',\n",
       "  0],\n",
       " ['MANNA FROM HEAVEN is a terrific film that is both predictable and unpredictable at the same time.  ',\n",
       "  1],\n",
       " ['The scenes are often funny and occasionally touching as the characters evaluate their lives and where they are going.  ',\n",
       "  1],\n",
       " ['The cast of veteran actors are more than just a nostalgia trip.  ', 1],\n",
       " [\"Ursula Burton's portrayal of the nun is both touching and funny at the same time with out making fun of nuns or the church.  \",\n",
       "  1],\n",
       " ['If you are looking for a movie with a terrific cast, some good music(including a Shirley Jones rendition of \"The Way You Look Tonight\"), and an uplifting ending, give this one a try.  ',\n",
       "  1],\n",
       " [\"I don't think you will be disappointed.  \", 1],\n",
       " ['Frankly, after Cotton club and Unfaithful, it was kind of embarrassing to watch Lane and Gere in this film, because it is BAD.  ',\n",
       "  0],\n",
       " ['The acting was bad, the dialogs were extremely shallow and insincere.  ',\n",
       "  0],\n",
       " ['It was too predictable, even for a chick flick.  ', 0],\n",
       " ['Too politically correct.  ', 0],\n",
       " ['Very disappointing.  ', 0],\n",
       " ['The only thing really worth watching was the scenery and the house, because it is beautiful.  ',\n",
       "  1],\n",
       " [\"I love Lane, but I've never seen her in a movie this lousy.  \", 0],\n",
       " ['An hour and a half I wish I could bring back.  ', 0],\n",
       " [\"But in terms of the writing it's very fresh and bold.  \", 1],\n",
       " ['The acting helps the writing along very well (maybe the idiot-savant sister could have been played better), and it is a real joy to watch.  ',\n",
       "  1],\n",
       " [\"The directing and the cinematography aren't quite as good.  \", 0],\n",
       " ['The movie was so boring, that I sometimes found myself occupied peaking in the paper instead of watching (never happened during a Columbo movie before!  ',\n",
       "  0],\n",
       " ['), and sometimes it was so embarrassing that I had to look away.  ', 0],\n",
       " ['The directing seems too pretentious.  ', 0],\n",
       " ['The scenes with the \"oh-so-mature\" neighbour-girl are a misplace.  ', 0],\n",
       " ['And generally the lines and plot is weaker than the average episode.  ', 0],\n",
       " ['Then scene where they debated whether or not to sack the trumpeter (who falsely was accused for the murder) is pure horror, really stupid.  ',\n",
       "  0],\n",
       " ['Some applause should be given to the \"prelude\" however.  ', 1],\n",
       " ['I really liked that.  ', 1],\n",
       " ['A great film by a great director.  ', 1],\n",
       " ['The movie had you on the edge of your seat and made you somewhat afraid to go to your car at the end of the night.  ',\n",
       "  1],\n",
       " ['The music in the film is really nice too.  ', 1],\n",
       " [\"I'd advise anyone to go and see it.  \", 1],\n",
       " ['Brilliant!  ', 1],\n",
       " ['10/10  ', 1],\n",
       " ['I liked this movie way too much.  ', 1],\n",
       " ['My only problem is I thought the actor playing the villain was a low rent Michael Ironside.  ',\n",
       "  0],\n",
       " ['It rocked my world and is certainly a must see for anyone with no social or physical outlets.  ',\n",
       "  1],\n",
       " [\"However, this didn't make up for the fact that overall, this was a tremendously boring movie.  \",\n",
       "  0],\n",
       " [\"There was NO chemistry between Ben Affleck and Sandra Bullock in this film, and I couldn't understand why he would consider even leaving his wife-to-be for this chick that he supposedly was knocked out by.  \",\n",
       "  0],\n",
       " [\"There were several moments in the movie that just didn't need to be there and were excruciatingly slow moving.  \",\n",
       "  0],\n",
       " ['This was a poor remake of \"My Best Friends Wedding\".  ', 0],\n",
       " ['All in all, a great disappointment.  ', 0],\n",
       " ['I cannot believe that the actors agreed to do this \"film\".  ', 0],\n",
       " ['I could not stand to even watch it for very long for fear of losing I.Q.  ',\n",
       "  0],\n",
       " ['I guess that nobody at the network that aired this dribble watched it before putting it on.  ',\n",
       "  0],\n",
       " [\"IMDB ratings only go as low 1 for awful, it's time to get some negative numbers in there for cases such as these.  \",\n",
       "  0],\n",
       " ['I saw \"Mirrormask\" last night and it was an unsatisfactory experience.  ',\n",
       "  0],\n",
       " ['Unfortunately, inexperience of direction meant that scene after scene passed with little in the way of dramatic tension or conflict.  ',\n",
       "  0],\n",
       " ['These are the central themes of the film and they are handled ineptly, stereotypically and with no depth of imagination.  ',\n",
       "  0],\n",
       " ['All the pretty pictures in the world cannot make up for a piece of work that is flawed at the core.  ',\n",
       "  0],\n",
       " ['It is an hour and half waste of time, following a bunch of very pretty high schoolers whine and cry about life.  ',\n",
       "  0],\n",
       " [\"You can't relate with them, hell you barely can understand them.  \", 0],\n",
       " ['This is definitely a cult classic well worth viewing and sharing with others.  ',\n",
       "  1],\n",
       " ['This movie is a pure disaster, the story is stupid and the editing is the worst I have seen, it confuses you incredibly.  ',\n",
       "  0],\n",
       " ['The fish is badly made and some of its underwater shots are repeated a thousand times in the film.  ',\n",
       "  0],\n",
       " ['A truly, truly bad film.  ', 0],\n",
       " ['The acting is terrible, and the writing is worse.  ', 0],\n",
       " ['The only possible way this movie could be redeemed would be as MST3K fodder.  ',\n",
       "  0],\n",
       " ['I paid too much.  ', 0],\n",
       " [\"Also, it's a real treat to see Anthony Quinn playing Crazy Horse.  \", 1],\n",
       " ['It was so BORING!  ', 0],\n",
       " ['No plot whatsoever!  ', 0],\n",
       " ['Again, no plot at all.  ', 0],\n",
       " ['Horrible!  ', 0],\n",
       " ['Worst hour and a half of my life!Oh my gosh!  ', 0],\n",
       " ['I had to walk out of the theatre for a few minutes just to get some relief!  ',\n",
       "  0],\n",
       " ['I hate movies like that.  ', 0],\n",
       " ['Yeah, the movie pretty much sucked.  ', 0],\n",
       " ['THERE IS NO PLOT OR STORYLINE!!  ', 0],\n",
       " ['If you do go see this movie, bring a pillow or a girlfriend/boyfriend to keep you occupied through out.  ',\n",
       "  0],\n",
       " ['Awful.  ', 0],\n",
       " [\"I don't think I've ever gone to a movie and disliked it as much.  \", 0],\n",
       " [\"It was a good thing that the tickets only cost five dollars because I would be mad if I'd have paid $7.50 to see this crap.  \",\n",
       "  0],\n",
       " [\"NOBODY identifies with these characters because they're all cardboard cutouts and stereotypes (or predictably reverse-stereotypes).  \",\n",
       "  0],\n",
       " [\"This is a bad film, with bad writing, and good actors....an ugly cartoon crafted by Paul Haggis for people who can't handle anything but the bold strokes in storytelling....a picture painted with crayons.  \",\n",
       "  0],\n",
       " ['Crash is a depressing little nothing, that provokes emotion, but teaches you nothing if you already know racism and prejudice are bad things.  ',\n",
       "  0],\n",
       " [\"Still, I do like this movie for it's empowerment of women; there's not enough movies out there like this one.  \",\n",
       "  1],\n",
       " ['Your brain will attempt to shut-down as part of a primal impulse of self-preservation.  ',\n",
       "  0],\n",
       " [\"I was left shattered from the experience of watching this 'film' and I took a good two hours to fully recover.  \",\n",
       "  0],\n",
       " ['This movie now joins Revenge of the Boogeyman and Zombiez as part of the hellish trinity of horror films.  ',\n",
       "  0],\n",
       " ['I certainly do not mean this distinction in a good way.  ', 0],\n",
       " ['I mean this in a terrible way.  ', 0],\n",
       " ['This film has no redeeming features.  ', 0],\n",
       " ['Everything is appalling.  ', 0],\n",
       " ['Artless camera-work endlessly presents us with the ugliest setting imaginable, i.e.  ',\n",
       "  0],\n",
       " ['The story is beyond stupid.  ', 0],\n",
       " ['The script is\\x85was there a script?  ', 0],\n",
       " ['The kids are annoying.  ', 0],\n",
       " ['The lead man is charisma-free.  ', 0],\n",
       " ['Utterly without merit on any level, this is akin to torture.  ', 0],\n",
       " [\"I'll even say it again \\x96 this is torture.  \", 0],\n",
       " ['Maybe there would be a reasonable explanation for this atrocity.  ', 0],\n",
       " ['Not a pleasant voyage of self-discovery.  ', 0],\n",
       " ['Highly unrecommended.  ', 0],\n",
       " [\"If this premise sound stupid, that's because it is.  \", 0],\n",
       " [\"Yes, it's that bad.  \", 0],\n",
       " ['Nothing at all to recommend.  ', 0],\n",
       " ['An excellent performance from Ms.  ', 1],\n",
       " [\"Garbo, who showed right off the bat that her talents could carry over from the silent era (I wanted to see some of her silent work, but Netflix doesn't seem to be stocking them.  \",\n",
       "  1],\n",
       " [\"It's also great to see that renowned silent screenwriter Frances Marion hasn't missed a step going from silent to sound.  \",\n",
       "  1],\n",
       " ['This movie suffered because of the writing, it needed more suspense.  ', 0],\n",
       " ['There were too many close ups.  ', 0],\n",
       " [\"But other than that the movie seemed to drag and the heroes didn't really work for their freedom.  \",\n",
       "  0],\n",
       " ['But this movie is definitely a below average rent.  ', 0],\n",
       " ['You\\'ll love it!  \\t1\\nThis movie is BAD.  \\t0\\nSo bad.  \\t0\\nThe film is way too long.  \\t0\\nThis is definitely one of the bad ones.  \\t0\\nThe movie I received was a great quality film for it\\'s age.  \\t1\\nJohn Wayne did an incredible job for being so young in the movie industry.  \\t1\\nHis on screen presence shined thought even though there were other senior actors on the screen with him.  \\t1\\nI think that it is a must see older John Wayne film.  \\t1\\nI really don\\'t see how anyone could enjoy this movie.  \\t0\\nI don\\'t think I\\'ve ever seen a movie half as boring as this self-indulgent piece of junk.  \\t0\\nIt probably would have been better if the director hadn\\'t spent most of the movie showcasing his own art work, which really isn\\'t that noteworthy.  \\t0\\nAnother thing I didn\\'t really like is when a character got punched in the face, a gallon of blood would spew forth soon after.  \\t0\\nJamie Foxx absolutely IS Ray Charles.  \\t1\\nHis performance is simply genius.  \\t1\\nHe owns the film, just as Spacek owned Coal Miner\\'s Daughter\" and Quaid owned \"Great Balls of Fire.  ',\n",
       "  1],\n",
       " [' In fact, it\\'s hard to remember that the part of Ray Charles is being acted, and not played by the man himself.  \\t1\\nRay Charles is legendary.  \\t1\\nRay Charles\\' life provided excellent biographical material for the film, which goes well beyond being just another movie about a musician.  \\t1\\nHitchcock is a great director.  \\t1\\nIronically I mostly find his films a total waste of time to watch.  \\t0\\nSecondly, Hitchcock pretty much perfected the thriller and chase movie.  \\t1\\nIt\\'s this pandering to the audience that sabotages most of his films.  \\t0\\nHence the whole story lacks a certain energy.  \\t0\\nThe plot simply rumbles on like a machine, desperately depending on the addition of new scenes.  \\t0\\nThere are the usual Hitchcock logic flaws.  \\t0\\nMishima is extremely uninteresting.  \\t0\\nThis is a chilly, unremarkable movie about an author living/working in a chilly abstruse culture.  \\t0\\nThe flat reenactments don\\'t hold your attention because they are emotionally adrift and stagy.  \\t0\\nAnd the rest of it just sits there being awful... with soldiers singing songs about the masculinity they pledge themselves to, hairsplitting about purity, the admiration of swords, etc.  \\t0\\nHe can bore you to pieces, and kill the momentum of a movie, quicker than anyone else.  \\t0\\nSchrader has made a resume full of lousy, amateurish films.  \\t0\\nWhen I first watched this movie, in the 80s, I loved it.  \\t1\\nI was totally fascinated by the music, the dancing... everything.  \\t1\\nHowever, I recently watched the whole thing again on DVD, and I was completely struck by how extremely stupid the storyline was - how it contained holes, inconsistencies and - frankly - a whole lot of crap - and how horrid the dancing was.  \\t0\\nI mean, in a realistic world, she would NEVER have gotten into that ballet repertory... The whole thing was quite pathetic.  \\t0\\nThe character developments also lacked in depth.  \\t0\\nWoa, talk about awful.  \\t0\\nDo not waste your time.  \\t0\\nIt was just too horrible.  \\t0\\nThe worst, sappiest dialogue... I could go on and on.  \\t0\\nBut what really made it unwatchable was the direction.  \\t0\\nThe poor actors.  \\t0\\nYou can\\'t even tell if they have any talent because they not only have pathetic lines to speak but the director gave them no action.  \\t0\\nIf you check the director\\'s filmography on this site you will see why this film didn\\'t have a chance.  \\t0\\nThis would not even be good as a made for TV flick.  \\t0\\nIf good intentions made a film great, then this film might be one of the greatest films ever made.  \\t1\\nThe film has great actors, a master director, a significant theme--at least a would-be significant theme, undertone of fifties existential world-weariness, aerial scenes that ought to have thrilled both senses and imagination, and characters about which one might deeply care.  \\t1\\nRegrettably, the film fails.  \\t0\\nThe movie lacks visual interest, drama, expression of feeling, and celebration of the very patriotism that underlines the narrative.  \\t0\\nNo actress has been worse used that June Allison in this movie.  \\t0\\nYet, I enjoy watching it.  \\t1\\nUnfortunately, this is a bad movie that is just plain bad.  \\t0\\nBad script, bad direction and horrible acting make this one plain bad!  \\t0\\nThe dialogue sucked.  \\t0\\nThe cinematography-if it can be called that-sucked.  \\t0\\nThe soundtrack sucked.  \\t0\\nThe acting sucked.  \\t0\\nThe concert sequences just sucked.  \\t0\\nThat was nice.  \\t1\\nThat was funny.  \\t1\\nIt was so funny.  \\t1\\nOverall, this movie was cheap trash.  \\t0\\nBut this movie is not funny, considering the ridiculousness of it.  \\t0\\nI came out of it feeling angry.  \\t0\\n***SPOILERS*** Whatever else can (or can\\'t) be said about it, SURFACE is superbly crafted.  \\t1\\nThe cinematography is simply stunning (to say the least) and the fx are nothing if not state-of-the-art.  \\t1\\nConceptually, the show offers a little bit of everything- and for just about everybody (parents, kids, fantasy and/or fx fans).  \\t1\\nAnd there wasn\\'t a single sour note struck acting-wise, either; some surprisingly solid casting, here.  \\t1\\nAll things considered, a job very well done.  \\t1\\nThanks good a movie like this was done and released.  \\t1\\nOne of the best mexican movies ever!, and one of the less understood, even by mexican themselves, no matter how identified the should have felt with it.  \\t1\\nIt ranks highly as a great noir-crime-drama, incredible performances by Belmondo and Lino Ventura.  \\t1\\nThe attention given to every character, and complex psychological portrayals, detailing loyalty, treachery, love, and hope, are tremendous.  \\t1\\nIt is an excellent drama, an excellent thriller, and an excellent film.  \\t1\\nUp there with the best of Melville.  \\t1\\nEverything about this film is simply incredible.  \\t1\\nYou truly take this journey through the eyes and soul of a child.  \\t1\\nBLACK WATER is a thriller that manages to completely transcend it\\'s limitations (it\\'s an indie flick) by continually subverting expectations to emerge as an intense experience.  \\t1\\nThe performances are real and gripping, the crocdodile is extremely well done, indeed if the Black Water website is to be believed that\\'s because they used real crocs and the swamp location is fabulous.  \\t1\\nI thoroughly enjoyed it when Christopher Eccleston took control of the TARDIS and the continuation of the series.  \\t1\\nI\\'m not sure what he was trying to do with this film.  \\t0\\nIf it was to turn my good day feeling into a night of disturbing memories than I guess he succeeded.  \\t0\\nThere is a lot of beautiful places.  \\t1\\nIt was forced, like everything in this movie.  \\t0\\nAgain, lame.  \\t0\\nHere\\'s where the movie really pi**ed me off.  \\t0\\nAnd don\\'t even get me started on the jerky camerawork.  \\t0\\nWhen I saw it in the theater I thought I was going to be sick.  \\t0\\nSummary: The witticisms weren\\'t witty.  \\t0\\nThe plot - well, I said I\\'d let that one go.  \\t0\\nThe acting was bad.  \\t0\\nReally bad.  \\t0\\nEven Billy Bob couldn\\'t rise above the script, which was worse.  \\t0\\nCamerawork - again, bad.  \\t0\\nRating: 1 out of 10.  \\t0\\nAn AMAZING finale to possibly the BEST trilogy of all time!  \\t1\\nKieslowski never ceases to amaze me.  \\t1\\nHe is one of my favourite directors, and one of the most talented directors in the history of cinema.  \\t1\\nHis use of the colours of the French flag in the three films was nothing short of incredible, every shot, every scene was like a work of art.  \\t1\\nThree of the most visually appealing movies i\\'ve ever seen.  \\t1\\nAnd his subtle connections between the three films are awesome.  \\t1\\nI have to mention this and it is a huge SPOILER, i loved the ending, how all the characters of the three films were the remaining survivors of the ferry disaster, with Valentine and the young judge together, and the old man watching it on her TV, solidifying his happiness over the suffering which he dealt with for those many years.  \\t1\\nI couldn\\'t think of a better way to end the film, but a smile on my face, great way to wrap up an amazing film and trilogy!  \\t1\\nI recommend this for EVERYONE who loves film, movies, anything...A Work of Art!  \\t1\\n10 out of 10 for both the movie and trilogy.  \\t1\\nI literally vomited while watching this film.  \\t0\\nI think i was one of the people who found this another one of roth\\'s pearls.  \\t1\\nhis performance, as awarded, was stunning.  \\t1\\nthe story which was told so eloquently by Francis ford Coppola 25 years earlier, really unfolds gradually and leaves room for the characters to develop.  \\t1\\nIn a most wonderful location lies a story of contrast.  \\t1\\nAll in all a beautiful directed film from Nicola\\'s roeg wih a sublime cast.  \\t1\\nI\\'m translating movies for a living and this is the first movie in my 5-year working experience that I found offensive to my intelligence.  \\t0\\nBut when someone strives for greatness and poetry, but delivers a muddled (and often ridiculous) story, a bunch of disparate scenes, pretentious dialogue... Then you get the worst kind of a movie that some other reviewer very accurately defined as pretentious crap\".  ',\n",
       "  0],\n",
       " [\"To those who find this movie intelligent or even masterful, I can only say - it's your intelligence and your imagination you obviously used to try and make some sense of this pitiful attempt (it's in our human nature to try and make sense of things) .  \",\n",
       "  0],\n",
       " [\"One more thing: I can tolerate political incorrectness very well, I'm all for artistic freedom and suspension of disbelief, but the Slavic female character was just too much.  \",\n",
       "  0],\n",
       " ['This is such a fun and funny movie.  ', 1],\n",
       " ['Highly entertaining at all angles.  ', 1],\n",
       " ['It features an outlandish array of memorable, psychotic but lovable nuts.  ',\n",
       "  1],\n",
       " ['So for our enjoyment we get to see them run around, play games, and be dangerous.  ',\n",
       "  1],\n",
       " ['It even has its sweet moments.  ', 1],\n",
       " ['The telephone repair man was really funny and his reactions to the nuts and bitchy boss were truly genuine.  ',\n",
       "  1],\n",
       " ['All the characters in this film are tremendously well played.  ', 1],\n",
       " ['And I really did find them funny.  ', 1],\n",
       " ['This is actually a very smart movie.  ', 1],\n",
       " ['There is a brilliant twist ending.  ', 1],\n",
       " [' I love it.  \\t1\\nThe ending is so, SO perfect... you\\'ll shed a tear.  \\t1\\nI am so thrilled after seeing a movie like this.  \\t1\\nI will never forget it now.  \\t1\\nIt is not just a cult... it is a cult CLASSIC.  \\t1\\nWhich has more depth and character than the man underneath it.  \\t0\\nThe Malta settings are as dry and as barren as the dialogue.  \\t0\\nThis movie is terrible.  \\t0\\nThe hockey scenes are terrible, defensemen playing like they\\'re 5 years old, goalies diving at shots that are 10 feet wide of the net, etc.  \\t0\\nFor those that haven\\'t seen it, don\\'t waste your time!  \\t0\\nTo call this movie a drama is ridiculous!  \\t0\\nStarted watching this but didn\\'t believe in any of the characters.  \\t0\\nIn particular the relationship between the bakery assistant and the waitress just didn\\'t work for me at all.  \\t0\\nIt was a very superficial movie and it gave me the feeling that I was watching play rather than a film.  \\t0\\nThe characters were very \\'stagey\\' and the storyline was a lot like a stage farce.  \\t0\\nBy the time the pyromaniac waylaid the assistant I was bored and didn\\'t care what happened next and so I switched off.  \\t0\\nGlad I didn\\'t pay to see it.  \\t0\\nDidn\\'t laugh or even smile once.  \\t0\\nBut it wasn\\'t anything at all just one big yawn...  \\t0\\nIt is a really good show to watch.  \\t1\\nIt is very educational for children 1 to 8 years old.  \\t1\\nBarney is definitely super DE duper.  \\t1\\nis pretty funny.  \\t1\\nBabie Bop is very cute.  \\t1\\nThe kids are very cool too.  \\t1\\n But \"Storm Trooper\" is not even bad enough to make it to the list of wonderfully terrible movies.  ',\n",
       "  0],\n",
       " [\"It's just lame.  \", 0],\n",
       " [\"The guy who said he's had better dialogue with his potted plants has it right.  \",\n",
       "  0],\n",
       " ['Everything about this movie is stupid.  ', 0],\n",
       " ['Even if you love bad movies, do not watch this movie.  ', 0],\n",
       " ['It is shameful.  ', 0],\n",
       " ['I would give this television series a 10 plus if i could.  ', 1],\n",
       " ['The writers were \"smack on\" and I think the best actors and actresses were a bonus to the show.These characters were so real.  ',\n",
       "  1],\n",
       " ['I must say I have taped most of the episodes and i find myself watching them over and over again.  ',\n",
       "  1],\n",
       " ['Now you know why I gave it a 10+!  ', 1],\n",
       " [\"I don't know exactly what it is about this movie, but we latched on to this endearing movie and it has become a special part of our family's memories.  \",\n",
       "  1],\n",
       " ['I totally and absolutely recommend this movie to anyone who likes good wholesome family movies because that is exactly what this is.  ',\n",
       "  1],\n",
       " ['The things that the four kids get themselves into is absolutely hilarious to watch.  ',\n",
       "  1],\n",
       " ['This is one of the best movies out there that shows such strong sibling bond for each other.  ',\n",
       "  1],\n",
       " ['Much more interesting, more action, more suspense, and less of the unneeded controversy.  ',\n",
       "  1],\n",
       " ['Everything from acting to cinematography was solid.  ', 1],\n",
       " ['Definitely worth checking out.  ', 1],\n",
       " ['Damian is so talented and versatile in so many ways of writing and portraying different Characters on screen.  ',\n",
       "  1],\n",
       " ['This movie has a cutting edge to it.  ', 1],\n",
       " ['I am so pleased to know such a modern day genius is out there , letting is passion for Art drive him and taking us as an audience with him.  ',\n",
       "  1],\n",
       " [\"The new characters weren't all that memorable, and I found myself forgetting who was who.  \",\n",
       "  0],\n",
       " ['I felt as though her going to Ireland did absolutely nothing whatsoever.  ',\n",
       "  0],\n",
       " [\"It didn't make me scared, horrified, or make me sympathetic towards the characters; it was simply annoying.  \",\n",
       "  0],\n",
       " ['The jerky camera movements were also annoying.  ', 0],\n",
       " ['The plot was the same as pretty much every other cheap horror.  ', 0],\n",
       " [\"There was a few pathetic attempts to give the characters some depth, but it didn't really work into the rest of the plot.  \",\n",
       "  0],\n",
       " ['I guess it was supposed to be clever twist, then shed some light on the situation, but it was just stupid.  ',\n",
       "  0],\n",
       " ['If you see it, you should probably just leave it on the shelf.  ', 0],\n",
       " ['Elias Koteas,Jack Palance play good roles Angelina is hot and gets naked.Billy Drago appears in this and is cool as usual + a cameo by Sven ole Thorsen helps make this a very enjoyable movie with good acting and a decent budget.  ',\n",
       "  1],\n",
       " ['This was such an awesome movie that i bought it off of Ebay.  ', 1],\n",
       " ['I really loved the story line and the poler bear was kinda cute.But if anyone has a question about Fort Steele, just ask away:)  ',\n",
       "  1],\n",
       " ['This totally UNfunny movie is so over the top and pathetic and unrealistic that throughout the whole 90 minutes of utter torture I probably looked at my watch about 70000 times!  ',\n",
       "  0],\n",
       " ['Lucy Bell is so much higher than this crap and for her to sink this low is quite depressing.  ',\n",
       "  0],\n",
       " ['All this movie does is make you sick watching all these slackers make excuses for their stupid actions for 90 minutes.  ',\n",
       "  0],\n",
       " ['God, and I can never get that 90 minutes back!  ', 0],\n",
       " ['I think the most wonderful parts (literally, full of \"wonder\") are the excerpts from his works.  ',\n",
       "  1],\n",
       " ['The sets (especially designed to work with the camera) are amazing....stylized, beautiful and effective.  ',\n",
       "  1],\n",
       " ['They could be used as exemplars for any set designer.  ', 1],\n",
       " ['The stories were powerful explorations of the nature of man and of art.  ',\n",
       "  1],\n",
       " ['After watching this film, I wanted to learn more about the works of this artist.  ',\n",
       "  1],\n",
       " ['I highly recommend this movie for anyone interested in art, poetry, theater, politics, or Japanese history.  ',\n",
       "  1],\n",
       " [\"Here, in The Wind and the Lion, we see a wonderful rendering of America's own Imperial age.  \",\n",
       "  1],\n",
       " [') What makes this story different are the terrific production values - faultless photography, composition and editing - the terrific casting - the underappreciated Brian Keith playing a bully Teddy - and vivid history.  ',\n",
       "  1],\n",
       " ['Though The Wind and the Lion is told largely through the eyes of the son, every member of the family can identify with one of the characters, whether it be Sean Connery\\'s noble brigand, Candace Bergen\\'s feisty heroine, John Huston\\'s wily John Hay or Steve Kanaly\\'s spiffy, radiant, ruthless can-do lieutenant, Roosevelt\\'s \"Big Stick\".  ',\n",
       "  1],\n",
       " ['This is high adventure at its best.  ', 1],\n",
       " ['I think it was Robert Ryans best film, because he portrayed someone like my father, and he was a schizophrenic in real life,(my father) although he never murdered anyone but was affected more so during the second world war which made him worse.  ',\n",
       "  1],\n",
       " ['Having to humour him just to get by and get through the day was so apt.  ',\n",
       "  1],\n",
       " ['(My mother and brother had to do this)When I saw Robert Ryan portraying this type of man, it was a very good imitation of this type of individual, and I was impressed.  ',\n",
       "  1],\n",
       " ['Almost all of the songs in Cover Girl are old-fashioned and not very tuneful.  ',\n",
       "  0],\n",
       " [\"The most annoying thing about 'Cover Girl' is the way in which Rita Hayworth is put up on a pedestal.  \",\n",
       "  0],\n",
       " [\"Unfortunately, 'Cover Girl' is an example of how Hollywood used to exploit women for financial gain.  \",\n",
       "  0],\n",
       " ['Non-linear narration thus many flashbacks and every part are articulated quite well.  ',\n",
       "  1],\n",
       " ['The good cinematography also makes her and Monica Bellucci look very beautiful.  ',\n",
       "  1],\n",
       " [\"A good commentary of today's love and undoubtedly a film worth seeing.  \",\n",
       "  1],\n",
       " ['For people who are first timers in film making, I think they did an excellent job!!  ',\n",
       "  1],\n",
       " ['It was very popular when I was in the cinema, a good house and very good reactions and plenty of laughs.  ',\n",
       "  1],\n",
       " [\"It's a feel-good film and that's how I felt when I came out of the cinema!  \",\n",
       "  1],\n",
       " ['It has northern humour and positive about the community it represents.  ',\n",
       "  1],\n",
       " ['I rather enjoyed it.  ', 1],\n",
       " ['I liked it.  ', 1],\n",
       " [\"I couldn't take them seriously.  \", 0],\n",
       " ['It really created a unique feeling though.  ', 1],\n",
       " ['Vivian Schilling did an excellent job with the script.  ', 1],\n",
       " ['A world better than 95% of the garbage in the theatres today.  ', 1],\n",
       " ['Her role was played well.  ', 1],\n",
       " ['Not too screamy not to masculine but just right.  ', 1],\n",
       " ['The camera really likes her in this movie.  ', 1],\n",
       " ['I would have casted her in that role after ready the script.  ', 1],\n",
       " [\"As a European, the movie is a nice throwback to my time as a student in the 1980's and the experiences I had living abroad and interacting with other nationalities, although the circumstances were slightly different.  \",\n",
       "  1],\n",
       " ['I am a fan of his ... This movie sucked really bad.  ', 0],\n",
       " ['Even worse than Ticker!  ', 0],\n",
       " ['& That movie was bad.  ', 0],\n",
       " ['Only like 3 or 4 buildings used, a couple of locations MAYBE, & poor hummh!  ',\n",
       "  0],\n",
       " ['It just blew.  ', 0],\n",
       " [\"This movie is excellent!Angel is beautiful and Scamp is adorable!His little yelps when hes scared,and the funniest parts are when:Scamp is caught under the curtain and when Angel and Scamp are singing 'Ive Never Had This Feeling Before'.I totally recommend this movie,its coming out on special edition on June 20.The cover has scamp on a garbage can and Angel underneath the lid.  \",\n",
       "  1],\n",
       " ['I just cant explain this movie more than romantic,charming,hilarious,and adorable.The junkyard scenes are funny,all the junkyard dogs have something special.Too funny i laughed,kids will LOVE it.Buy it when it comes out,it has new features!  ',\n",
       "  1],\n",
       " ['Now we were chosen to be tortured with this disgusting piece of blatant American propaganda.  ',\n",
       "  0],\n",
       " ['This show is made for Americans - it is too stupid and full with hatred and clichés to be admitted elsewhere.  ',\n",
       "  0],\n",
       " ['Almost everyone involved must be return to school, acting is utterly predictable and bad, script is pile of garbage all round.  ',\n",
       "  0],\n",
       " ['I wish I could enter negative values, admins?  ', 0],\n",
       " [\"The sets are so bad, they wouldn't look out of place on a Thunderbirds episode.  \",\n",
       "  0],\n",
       " ['The use of slow-motion needlessly repeats itself throughout the movie but is well backed up by bad acting (and bad is a kind word here), no continuity, scenes that are thrown in for no reason whatsoever, vehicles that looked like they were made from a Corn Flakes box and a directorial style that bordered on stupidity.  ',\n",
       "  0],\n",
       " ['Oh yeah, and the storyline was pathetic too.  ', 0],\n",
       " [\"I hate writing bad reviews about films - especially those in which I really like the star - but this film is so bad I don't believe for one second that anyone could have been proud of it.  \",\n",
       "  0],\n",
       " [\"I am not a filmmaker nor am I a director but I would hide my head in the sand if I'd spent whatever amount of money and time on this movie.  \",\n",
       "  0],\n",
       " ['In short - this was a monumental waste of time and energy and I would not recommend anyone to EVER see this film.  ',\n",
       "  0],\n",
       " ['It came free with a DVD player I bought but I still turned the thing off halfway through because I was embarrassed for Howell.  ',\n",
       "  0],\n",
       " ['1/10 - and only because there is no setting for 0/10.  ', 0],\n",
       " [\"An interesting premise, and Billy Drago is always good as a dangerous nut-bag (side note: I'd love to see Drago, Stephen McHattie and Lance Hendrikson in a flick together; talk about raging cheekbones!).  \",\n",
       "  1],\n",
       " [\"The soundtrack wasn't terrible, either.  \", 1],\n",
       " ['But the acting--even that of such professionals as Drago and Debbie Rochon--was terrible, the directing worse (perhaps contributory to the former), the dialog chimp-like, and the camera work, barely tolerable.  ',\n",
       "  0],\n",
       " ['Still, it was the SETS that got a big \"10\" on my \"oy-vey\" scale.  ', 1],\n",
       " ['Yes, I am simplifying things here for the sake of brevity, for this really is at the core of the problems with this film - it has too much going on without any real, fulfilling explanation.  ',\n",
       "  0],\n",
       " ['Both do good jobs and are quite amusing.  ', 1],\n",
       " [\"But the convoluted plot just didn't convince me, and much of the film was watched with a weird, questioning glance.  \",\n",
       "  0],\n",
       " ['I let my girlfriend talk me into seeing this - bad idea, we both hated it.  ',\n",
       "  0],\n",
       " ['The last 15 minutes of movie are also not bad as well.  ', 1],\n",
       " ['Bela Lugosi was totally extraneous, intoning odd lines.  ', 0],\n",
       " ['The acting was decidely wooden, though no worse than a period Universal B movie.  ',\n",
       "  0],\n",
       " [\"I like Armand Assante & my cable company's summary sounded interesting, so I watched it, twice already, and probably will again.  \",\n",
       "  1],\n",
       " ['I believe the screenwriter did a good job of tying up the loose ends.  ',\n",
       "  1],\n",
       " ['My 8/10 score is mostly for the plot.  ', 1],\n",
       " [\"I won't say any more - I don't like spoilers, so I don't want to be one, but I believe this film is worth your time.  \",\n",
       "  1],\n",
       " ['Wow, what a bad film.  ', 0],\n",
       " ['Not frightening in the least, and barely comprehensible.  ', 0],\n",
       " [\"The plot doesn't hang together at all, and the acting is absolutely appalling.  \",\n",
       "  0],\n",
       " ['Not even good for camp value!  ', 0],\n",
       " [\"I wasn't expecting Oscar material, but this?  \", 0],\n",
       " [\"You'd have to have the IQ of particularly stupid mollusk not to see that one coming.  \",\n",
       "  0],\n",
       " ['This film (and I use that word loosely) is an insult to the movie-going public.  ',\n",
       "  0],\n",
       " ['If only someone involved with it knew how to string together narrative!  ',\n",
       "  0],\n",
       " [\"This gets a 1 out of 10, simply because there's nothing lower.  \", 0],\n",
       " ['This is one I did not have, but I watched it recently on Fox Movie Channel, and was very disappointed.  ',\n",
       "  0],\n",
       " ['I know he was a contract player with little control over his scripts, but the acting was as bad as the script.  ',\n",
       "  0],\n",
       " ['Victor McLaglen was even bad, and Brian DonLevy was almost unrecognizable.  ',\n",
       "  0],\n",
       " ['Considering the relations off screen between Taylor and Stanwyck, it was surprising how little chemistry there was on screen between the two of them.  ',\n",
       "  0],\n",
       " ['But the premise of the film was so ridiculous: that the President of the U.S.  ',\n",
       "  0],\n",
       " ['The death row scenes were entirely unmoving.  ', 0],\n",
       " [\"The only thing worse than Taylor's acting was Stanwyck's singing.  \", 0],\n",
       " ['Whatever the producer was going for, he missed entirely.  ', 0],\n",
       " ['I was deeply impressed with the character he played.  ', 1],\n",
       " ['I knew when I saw the film that more great things were to come from this gifted actor.  ',\n",
       "  1],\n",
       " ['A cheap and cheerless heist movie with poor characterisation, lots of underbite style stoic emoting (think Chow Yun Fat in A Better Tomorrow) and some cheesy clichés thrown into an abandoned factory ready for a few poorly executed flying judo rolls a la John Woo.  ',\n",
       "  0],\n",
       " ['Even the squibs look awful.  ', 0],\n",
       " ['At no point in the proceedings does it look remotely like America.  ', 0],\n",
       " ['The plot, such as it is, is so derivative and predictable that the ending is like a mercy killing.  ',\n",
       "  0],\n",
       " ['The awful dialogue and hopeless overacting by everyone who gets shot top off a real waste of space and time.  ',\n",
       "  0],\n",
       " ['I was very uneasy with how bad this movie was, but not scared at all.  ',\n",
       "  0],\n",
       " ['The dialogue is composed of things that make little sense.  ', 0],\n",
       " ['About 30 minutes of footage is wasted to show mediocre elderly actors awkwardly babbling overwrought pseudo-Satanic gibberish corny enough to make a teen Goth blush, almost always in Olde English, and sometimes in Latin that may or may not be made up words.  ',\n",
       "  0],\n",
       " ['The directing is sloppy at best.  ', 0],\n",
       " ['Hackneyed writing, certainly, but made even worse by the bad directing.  ',\n",
       "  0],\n",
       " ['Of course, the acting is blah.  ', 0],\n",
       " ['The acting by the whole cast could be put on a scale and balanced perfectly between overacting and underacting.  ',\n",
       "  0],\n",
       " [\"And, FINALLY, after all that, we get to an ending that would've been great had it been handled by competent people and not Jerry Falwell.  \",\n",
       "  0],\n",
       " [\"I loved this movie it was a great portrayal of a family who had it's share of ups and down, but in the end they knew that special love they had for each other.  \",\n",
       "  1],\n",
       " ['I have seen many movies starring Jaclyn Smith, but my god this was one of her best, though it came out 12 years ago.  ',\n",
       "  1],\n",
       " [\"This movie contained an all-star cast, and what I loved the most was that it opened my eyes to see other actors who I haven't seen before.  \",\n",
       "  1],\n",
       " ['This movie was kind of long in length, but I enjoyed every minute of it.  ',\n",
       "  1],\n",
       " ['Overall I rate this movie a 10 out of a 1-10 scale.  ', 1],\n",
       " ['Lifetime does not air it enough, so if anyone knows what store sells it let me know because this is a must-have.  ',\n",
       "  1],\n",
       " ['I particularly remember my senses being assaulted by strident cords of music that would blare out with very little warning, and even less meaning.  ',\n",
       "  0],\n",
       " ['It is just the sort of pap that is screened in the afternoon to punish the unemployed for not having jobs.  ',\n",
       "  0],\n",
       " ['Totally different, with loads of understatement and black comedy, this is a film few get to see, but those who do will remember it.  ',\n",
       "  1],\n",
       " ['This movie creates its own universe, and is fascinating in every way.  ',\n",
       "  1],\n",
       " ['But this movie really got to me.  ', 1],\n",
       " ['See it.  ', 1],\n",
       " ['I really hope the team behind this movie makes more movies, and that they will continue to do so in their own, some kinda weird style.  ',\n",
       "  1],\n",
       " [\"And I forgot: The Casting here i superb, with Trond Fausa Aurvåg being perfect in the role as the Bothersome Man, who doesn't understand where he is, what he is doing and why.  \",\n",
       "  1],\n",
       " ['This movie is a good and humorous comment on life in 2006.  ', 1],\n",
       " ['I found this move beautiful, enjoyable, and uplifting.  ', 1],\n",
       " ['Initially the local sites in the film, which was filmed here in Buffalo, intrigued me.  ',\n",
       "  1],\n",
       " ['Later I found myself lost in the power of the film.  ', 1],\n",
       " ['The entire audience applauded at the conclusion of the film.  ', 1],\n",
       " ['I left the theater with a lilt in my step, joy in my heart and hope for the human race.  ',\n",
       "  1],\n",
       " ['Duris has a wholesome appearance and gives a fine performance.  ', 1],\n",
       " ['The rest of the cast also play well.  ', 1],\n",
       " ['Cinematography noteworthy including fine views of Barcelona and its famed Gaudi towers.  ',\n",
       "  1],\n",
       " ['About ten minutes into this film I started having second thoughts.  ', 0],\n",
       " ['About half way through this film I started to dislike it.  ', 0],\n",
       " ['By the time the film ended, I not only disliked it, I despised it.  ', 0],\n",
       " ['What this film lacks is a convincing script.  ', 0],\n",
       " ['The script looks as if only a rough draft was written and shooting began before a finished script was completed.  ',\n",
       "  0],\n",
       " ['Things happen, characters personalities change, plot twists occur for no real reason other than that script calls for it.  ',\n",
       "  0],\n",
       " ['The cast is good.  ', 1],\n",
       " [\"For that, it's worth checking out.  \", 1],\n",
       " ['This is probably the most irritating show I have ever seen in my entire life.  ',\n",
       "  0],\n",
       " ['It is indescribably the most annoying and idiotic show I have ever seen.  ',\n",
       "  0],\n",
       " ['Everything about it is just bad.  ', 0],\n",
       " ['I could not understand, what kind of idiot would produce this mess in the first place not to mention several season.  ',\n",
       "  0],\n",
       " ['The script is bad, very bad \\x96 it contains both cheesiness and unethical joke that you normally see in rated R or NC-17 movie.  ',\n",
       "  0],\n",
       " ['The casting is also horrible, cause all you see is a really really BAD Actors, period.  ',\n",
       "  0],\n",
       " ['Final Word: This Show is a real torture!!  ', 0],\n",
       " ['It is zillion times away from reality.  ', 0],\n",
       " [\"Watching washing machine twirling around wouldn't hurt your eyes as much as this show.  \",\n",
       "  0],\n",
       " ['Rating: 0/10 (Grade: Z) Note: The Show Is So Bad That Even Mother Of The Cast Pull Her Daughter Out Of The Show.  ',\n",
       "  0],\n",
       " [\"20th Century Fox's ROAD HOUSE 1948) is not only quite a silly noir but is an implausible unmitigated bore of a movie.  \",\n",
       "  0],\n",
       " ['Full of unconvincing cardboard characters it is blandly written by Edward Chodorov, who also produced, and is surprisingly directed by Jean Negulesco from whom one would expect a great deal more.  ',\n",
       "  0],\n",
       " ['From here on the Widmark character turns unintentionally comical!  ', 0],\n",
       " ['His losing his marbles so early in the proceedings is totally implausible and unconvincing.  ',\n",
       "  0],\n",
       " [\"And if that isn't enough of a mess of a movie for you - the picture is also marred with a constant use of studio sets and indoor exteriors.  \",\n",
       "  0],\n",
       " ['Whatever prompted such a documentary is beyond me!  ', 0],\n",
       " ['(very serious spoilers) this movie was a huge disappointment.  ', 0],\n",
       " ['there are so many problems i dont know where to start.  ', 0],\n",
       " ['the cast was great.  ', 1],\n",
       " ['steve martin delivers a really funny performance of a middle-aged, upper class, uptight white guy.  ',\n",
       "  1],\n",
       " ['add betty white and jean smart and you have a great cast - everyone played their parts really well.  ',\n",
       "  1],\n",
       " ['but the movie makes a lot of serious mistakes.  ', 0],\n",
       " ['first of all, there are enough racial stereotypes and racial jokes to offend everyone.  ',\n",
       "  0],\n",
       " ['the movie is littered with overt racial slurs towards the black cast members and in return the whites are depicted as morons and boobs.  ',\n",
       "  0],\n",
       " [\"putting the race card aside, lets look at the major flaw in the film: they destroy latifa's character.  \",\n",
       "  0],\n",
       " ['there is no real plot.  ', 0],\n",
       " ['i wouldnt see this movie again for free.  ', 0],\n",
       " ['STEAMBOAT WILLIE is an amazingly important film to our cinema history.  ',\n",
       "  1],\n",
       " ['This second appearance of Mickey Mouse (following the silent PLANE CRAZY earlier that year) is probably his most famous film--mostly because it was so ground-breaking.  ',\n",
       "  1],\n",
       " [\"While you don't yet hear Mickey speak, there are tons of sound effects and music throughout the film--something we take for granted now but which was a huge crowd pleaser in 1928.  \",\n",
       "  1],\n",
       " ['However, after seeing the short again after about 25 years, I was amazed at how timeless the film actually is.  ',\n",
       "  1],\n",
       " ['It\\'s just adorable seeing Mickey playing \"Turkey in the Straw\" in a highly imaginative (if occasionally cruel) way.  ',\n",
       "  1],\n",
       " [\"Clever and a real crowd-pleaser--this film still ranks among Mickey's best films even after 80 wonderful years.  \",\n",
       "  1],\n",
       " [\"The bipolarity of the ruthless thug (one minute a ruthless killer, the next minute a Luv's diaper commercial) is completely unconvincing.  \",\n",
       "  0],\n",
       " [\"I'm terribly disappointed that this film would receive so many awards and accolades, especially when there are far more deserving works of film out there.  \",\n",
       "  0],\n",
       " ['The original Body and Soul (1947) is a masterpiece.  ', 1],\n",
       " ['John Garfield, Ann revere, Lilli Plmer, William Conrad, Canada Lee...and filmed by one of the greatest cinematographers to ever grace the screen..James Wong Howe.  ',\n",
       "  1],\n",
       " [\"I don't think there are any redeeming qualities in this remake.  \", 0],\n",
       " ['This may be the only bad film he ever made.  ', 0],\n",
       " [\"So bad...well...it's just bad.  \", 0],\n",
       " ['This movie is a solid example of a bad plot and a very, very bad idea all the way.  ',\n",
       "  0],\n",
       " [\"It's a shame to see good actors like Thomerson and James make a living in a mess like this.  \",\n",
       "  0],\n",
       " ['I thought it was bad.  ', 0],\n",
       " ['Both films are terrible, but to the credit of the 1986 version, it was watchable.  ',\n",
       "  0],\n",
       " [\"Let's start with all the problems\\x97the acting, especially from the lead professor, was very, very bad.  \",\n",
       "  0],\n",
       " ['The script is a big flawed mess.  ', 0],\n",
       " [\"The best example of how dumb the writing is when it's established that you can turn the zombie-students back into humans by removing a necklace containing a piece of the meteorite.  \",\n",
       "  0],\n",
       " ['Director Paul Matthews, who also wrote/directed the weak 1995 monster movie \"Grim\", clearly doesn\\'t know how to pace his films.  ',\n",
       "  0],\n",
       " ['The movie is terribly boring in places.  ', 0],\n",
       " ['The lighting is awful.  ', 0],\n",
       " ['The film looks cheap and bland.  ', 0],\n",
       " ['One of the most disappointing aspects is the lack of notable gore.  ', 0],\n",
       " [\"This convention never worked well in the past, and certainly doesn't work here.  \",\n",
       "  0],\n",
       " ['The visual effects were AWFUL.  ', 0],\n",
       " [\"The CG opening sequence in space looked like it could have been created on Microsoft Slideshow for God's sake!  \",\n",
       "  0],\n",
       " ['The \"explosion\" of the Gas tanks at the end was just as awful.  ', 0],\n",
       " [\"Okay, I like to consider myself a fair critic, so I'll give credit where credit's due--the creature effects were actually pretty cool.  \",\n",
       "  1],\n",
       " ['Gotta love those close-ups of slimy, drooling teeth!  ', 1],\n",
       " ['To sum the film up, \"Breeders\" is a terrible, cheaply made horror movie that should be avoided like the Ebola virus.  ',\n",
       "  0],\n",
       " ['Not recommended.  ', 0],\n",
       " ['He is almost unbearable to watch on screen, he has little to no charisma, and terrible comedic timing.  ',\n",
       "  0],\n",
       " [\"Aside from it's terrible lead, this film has loads of other debits.  \", 0],\n",
       " [\"I understand that it's supposed to be a cheap popcorn comedy, but that doesn't mean that it has to completely insult our intelligence, and have writing so incredibly hackneyed that it borders on offensive.  \",\n",
       "  0],\n",
       " [\"Lewis Black's considerable talent is wasted here too, as he is at his most incendiary when he is unrestrained, which the PG-13 rating certainly won't allow.  \",\n",
       "  0],\n",
       " [\"The film's sole bright spot was Jonah Hill (who will look almost unrecognizable to fans of the recent Superbad due to the amount of weight he lost in the interim).  \",\n",
       "  1],\n",
       " ['With the originality and freshness of the first movie now spent, this remake had little else to offer.  ',\n",
       "  0],\n",
       " ['The budget was evidently very limited.  ', 0],\n",
       " ['This was reflected not only in the cast, but also in the below-par script, which borrowed much from the earlier classic.  ',\n",
       "  0],\n",
       " ['However, here there was no decent acting, action or location work to balance things up.  ',\n",
       "  0],\n",
       " ['Filmiing was less expansive.  ', 0],\n",
       " ['It failed to convey the broad sweep of landscapes that were a great part of the original.  ',\n",
       "  0],\n",
       " ['Generally; it just lacked imagination.  ', 0],\n",
       " ['Not recommended.  ', 0],\n",
       " ['Is it possible for a movie to get any worse than this?  ', 0],\n",
       " ['There is no plot here to keep you going in the first place.  ', 0],\n",
       " ['Even when the women finally show up, there is no sign of improvement; the most expected things happen and by the time the film is over, you might be far asleep.  ',\n",
       "  0],\n",
       " ['Beware: this is not a trashy cult movie, this is trash -period!  ', 0],\n",
       " [\"I can't believe there's even a sequel to this!  \", 0],\n",
       " ['Which is precisely why I am giving it such a bad review!  ', 0],\n",
       " [\"Being a 90's child, I truly enjoyed this show and I can proudly say that I enjoyed it big time and even more than the classical WB cartoons.  \",\n",
       "  1],\n",
       " ['But \"Tiny Toons\" kept the 90\\'s vibe and delivered one of the most popular, funny, and underrated cartoons ever created.  ',\n",
       "  1],\n",
       " ['The memories are murky but I can only say that I enjoyed every single episode and product related to the show.  ',\n",
       "  1],\n",
       " ['Easily, none other cartoon made me laugh in a tender way (before getting into dark sitcoms oriented for teenagers).  ',\n",
       "  1],\n",
       " ['The characters were all funny and had the peculiarity of not having a true lead character.  ',\n",
       "  1],\n",
       " ['Every single character was hilarious and deserved to be called a lead.  ',\n",
       "  1],\n",
       " ['Every element of this story was so over the top, excessively phony and contrived that it was painful to sit through.  ',\n",
       "  0],\n",
       " ['Her lines seem to have been WRITTEN by a fifteen year old, though they are trying oh so, so hard to sound like how a fifteen year old would really, um, you know, well... talk.  ',\n",
       "  0],\n",
       " ['Perabo has a nice energy level and is obviously very comfortable in front of a camera.  ',\n",
       "  1],\n",
       " ['There is simply no excuse for something this poorly done.  ', 0],\n",
       " ['I saw this movie and I thought this is a stupid movie.  ', 0],\n",
       " ['What is even more stupid is that who had thought an idea that there should be a volcano in Los Angeles?  ',\n",
       "  0],\n",
       " ['To be honest with you, this is unbelievable nonsense and very foolish.  ',\n",
       "  0],\n",
       " ['In conclusion, I will not bother with this movie because a volcano in Los Angeles is nothing but nonsense.  ',\n",
       "  0],\n",
       " ['The story line is just awful!  ', 0],\n",
       " [\"It's just painful!  \", 0],\n",
       " ['And the accents are absolutely abysmal!  ', 0],\n",
       " [\"There's also enough hypocrisy in this film to make me vomit.  \", 0],\n",
       " [\"Don't waste your time watching this rubbish non-researched film.  \", 0],\n",
       " ['I believe that Pitch Black was done well.  ', 1],\n",
       " [\"The characters are interesting and you want to find out more about them the longer the movie goes on, and I think people will be surprised by who does and doesn't make it.  \",\n",
       "  1],\n",
       " ['Go watch it!  ', 1],\n",
       " ['Omit watching this.  ', 0],\n",
       " ['VERY funny!  ', 1],\n",
       " ['My rating: just 3 out of 10.  ', 0],\n",
       " ['The characters are interesting and you really care for them.  ', 1],\n",
       " ['An instant classic, with a great soundtrack and a catchy song during the ending credits.  ',\n",
       "  1],\n",
       " [\"Don't miss it.  \", 1],\n",
       " [\"This is a masterful piece of film-making, with many themes simmering and occasionally boiling over in this warts and all study of the poet's bohemian, self-indulgent wartime years that span the aerial bombardments of London and the outward tranquillity of a Welsh coastal retreat - the borderlines between friendship, lust and love, dedication to art and experience versus practical concerns, jealousy, rivalry, cowardice and egotism versus heroism and self-sacrifice and more.  \",\n",
       "  1],\n",
       " ['A mature, subtle script that suggests and occasionally brings into dramatic focus the underlying tensions is well served by perfect performances (apart from the odd inappropriate smiling that Keira Knightley is prone to, though perhaps under direction this time as the other characters themselves often mention it).  ',\n",
       "  1],\n",
       " ['But above all the exquisite visual composition of each moment, with inventive and elegant use of close-up, camera angle and lighting, including pointillistic faux home movie footage, is a wonder and joy to behold.  ',\n",
       "  1],\n",
       " [\"It's as continuously beautiful to look at as a Bertolucci, but the relationships here are more convincing and the narrative more engaging than some of that master's work.  \",\n",
       "  1],\n",
       " ['The basic premise is wasted since it is sidelined by the inexplicable focus on the documentary crew.  ',\n",
       "  0],\n",
       " ['Regardless, the film fails on most levels.  ', 0],\n",
       " ['Avoid at all costs.  ', 0],\n",
       " ['I saw this film over Christmas, and what a great film it was!  ', 1],\n",
       " ['I thought Errol Flynn was brilliant as Custer and has since become my favourite actor!  ',\n",
       "  1],\n",
       " ['His acting alongside Olivia De Havilland was brilliant and the ending was fantastic!  ',\n",
       "  1],\n",
       " ['I had always known that Errol Flynn was a brilliant actor as he was my dads favourite actor, and I grew up watching his films as a child.  ',\n",
       "  1],\n",
       " [\"But it wasn't until I watched this film that I realised how great he actually was.  \",\n",
       "  1],\n",
       " [\"I'll give this film 10 out of 10!  \", 1],\n",
       " [\"I know that Jim O'Connor was very energetic and that nobody could be as much as him, but George was well dull.  \",\n",
       "  0],\n",
       " [\"He really didn't seem to want to be hosting; his voice-overs were monotonous, didn't get involved with the guests.  \",\n",
       "  0],\n",
       " ['Lovely little thriller from Hitchcock, with lots of nice shenanigans surrounding a murdered spy, a kidnapped child, a nasty church, a foreign plot and some random taxidermists.  ',\n",
       "  1],\n",
       " [\"Jimmy Stewart is as ever a great hero for Hitchcock, the story rips along to its cool climax at an embassy function, but it lacks the brooding menace of Hitchcock's black and white, low-budget original.  \",\n",
       "  1],\n",
       " [\"Nevertheless yet another wonderful film from the great master's stable.  \",\n",
       "  1],\n",
       " ['I have to say that this film was excellently produced and tops the ratings as a typical sci fi film!  ',\n",
       "  1],\n",
       " [\"Excellently produced by one of Sci-fi's best producers Scot Vandiver !  \",\n",
       "  1],\n",
       " ['But it is entertaining, nonetheless.  ', 1],\n",
       " [\"It's a campy sort of film that's a joy to watch.  \", 1],\n",
       " [\"There's barely a boring moment in the film and there are plenty of humorous parts.  \",\n",
       "  1],\n",
       " ['The cast is always entertaining as usual.  ', 1],\n",
       " ['Overall, a delight!  ', 1],\n",
       " [\"This movie is so mind-bendingly awful, it couldn't have even been created.  \",\n",
       "  0],\n",
       " ['The film lacks any real scares or tension & some of the medical terminology used throughout is a bit iffy to say the least & I say that as an insulin dependant diabetic myself.  ',\n",
       "  0],\n",
       " ['The least said about the acting the better.  ', 0],\n",
       " ['This movie does an excellent job of revealing the complexity of the task and the incredible challenges facing South Africa.  ',\n",
       "  1],\n",
       " ['I believe every one should see this movie as I think few people outside of South Africa understand its past and what is being attempted in the Truth and Reconciliation process.  ',\n",
       "  1],\n",
       " ['Nothing short of magnificent photography/cinematography in this film.  ',\n",
       "  1],\n",
       " ['The acting is fantastic, the stories are seamlessly woven together, and the dogs are splendid............. A must rent, view, or see.  ',\n",
       "  1],\n",
       " [\"Don't be afraid of subtitles........ its worth a little aversion therapy 10/10  \",\n",
       "  1],\n",
       " ['Excellent performance.  ', 1],\n",
       " ['There still are good actors around!  ', 1],\n",
       " ['Also great directing and photography.  ', 1],\n",
       " [\"Very true to Shakespear, and a 'must' for all Shakespear fans.  \", 1],\n",
       " ['Macbeth (Jason Connery) moved me to tears with his final monolog (out brief candle, out)He gave the sphere of moral decay and dark forces a human face, which makes it the more interesting.  ',\n",
       "  1],\n",
       " ['Helen Baxendale is a very credible lady Macbeth who can be very cheerfull at times and sometimes she just looks like a naughty girl, but deadly in her taste for blood and evil.  ',\n",
       "  1],\n",
       " ['If you love death and decay, and Shakespears lyrics... this is the one.  ',\n",
       "  1],\n",
       " [\"This is a witty and delightful adaptation of the Dr Seuss book, brilliantly animated by UPA's finest and thoroughly deserving of its Academy Award.  \",\n",
       "  1],\n",
       " ['Special mention should be made of the superb music score and sound effects, which are an integral element in helping to make this such a memorable and enjoyable cartoon.  ',\n",
       "  1],\n",
       " ['However Paul Schrader has indeed made a film \"about\" Mishima that is both superb & complex.  ',\n",
       "  1],\n",
       " [\"Also notable is John Bailey's fine crisp beautifully colored cinematography and the great production design & costumes by Eiko Ishioka who went on to do the memorable costumes for Coppola's Dracula for which she received a well deserved Oscar.  \",\n",
       "  1],\n",
       " ['Even allowing for poor production values for the time (1971) and the format (some kind of mini-series), this is baaaaaad.  ',\n",
       "  0],\n",
       " ['Unless you\\'re just out to visually \"collect\" all extant films of Austen\\'s work, you can skip this one.  ',\n",
       "  0],\n",
       " [\"If you do watch it, however, there are small consolations: The actresses playing Anne's sisters each do a wonderful job with their roles.  \",\n",
       "  1],\n",
       " ['It is not good.  ', 0],\n",
       " ['Speaking of the music, it is unbearably predictably and kitchy.  ', 0],\n",
       " ['Then the film just dropped the ball.  ', 0],\n",
       " ['This is a stunning movie.  ', 1],\n",
       " ['Raw and sublimely moving.  ', 1],\n",
       " [\"It felt like a very gripping, intelligent stage play (but without the overly theatrical feeling one actually gets from watching people on a stage) which plays on everyone's terror of a white lie escalating to monstrous consequences.  \",\n",
       "  1],\n",
       " ['All of the main players are mesmerising.  ', 1],\n",
       " [\"Tom Wilkinson broke my heart at the end... and everyone else's judging by the amount of fumbling for hankies and hands going up to faces among males and females alike.  \",\n",
       "  1],\n",
       " ['Julian Fellowes has triumphed again.  ', 1],\n",
       " [\"He's a national treasure.  \", 1],\n",
       " ['GO AND SEE IT!  ', 1],\n",
       " ['This is an excellent film.  ', 1],\n",
       " ['The aerial scenes were well-done.  ', 1],\n",
       " ['It was also the right balance of war and love.  ', 1],\n",
       " ['The film gives meaning to the phrase, \"Never in the history of human conflict has so much been owed by so many to so few.  ',\n",
       "  1],\n",
       " ['Kris Kristoffersen is good in this movie and really makes a difference.  ',\n",
       "  1],\n",
       " ['A good film by a great director!  ', 1],\n",
       " ['This is definitely one of the better documentaries I have seen looking at family relationships and marriage.  ',\n",
       "  1],\n",
       " [\"There are many continuity errors: one other user commented on different cars in the garage, Joe's glasses...the one that got to me the most was the fact Joe's facial hair configuration seemed to change from scene to scene.  \",\n",
       "  0],\n",
       " ['This is just a great movie.  ', 1],\n",
       " ['10 out of 10 stars.  ', 1],\n",
       " [\"I can't see how this movie can be an inspiration to anyone to come out or overcome fear and rejection.  \",\n",
       "  0],\n",
       " [\"It's so bad it's actually worth seeing just for that reason.  \", 0],\n",
       " ['Punishment Park is a brilliant piece of cinema.  ', 1],\n",
       " ['Shot in the Southern California desert using his patent faux documentary style, Watkins creates a film like no other.  ',\n",
       "  1],\n",
       " ['This is one of Peter Watkins most accessible films.  ', 1],\n",
       " ['I advise you to look out for it.  ', 1],\n",
       " ['You wont regret it!  ', 1],\n",
       " ['Highly recommended A+  ', 1],\n",
       " ['Well... Just if you keep thinking how bad it is.  ', 0],\n",
       " [\"It's a mediocre, miserable, hollow, laughable and predictable piece of garbage.  \",\n",
       "  0],\n",
       " [\"It's a case of 'so bad it is laughable'.  \", 0],\n",
       " [') very bad performance plays Angela Bennett, a computer expert who is at home all the time.  ',\n",
       "  0],\n",
       " ['It is a film about nothing, just a pretext to show ridiculous action scenes.  ',\n",
       "  0],\n",
       " ['How awful she is!  ', 0],\n",
       " ['But she is still a bad actress, repeating her robotic face moves in each of her pictures.  ',\n",
       "  0],\n",
       " ['The results, well, are a shame.  ', 0],\n",
       " ['DELETE this film from your mind!  ', 0],\n",
       " ['One of the worst shows of all time.  ', 0],\n",
       " ['The show would begin with smart ass ed comments to each other that would be totally off the wall and uncalled for.  ',\n",
       "  0],\n",
       " ['The fat computer geek was unbelievable, the bible thumper, the bad-ass girl, who are these actors???  ',\n",
       "  0],\n",
       " ['Never heard of any of them except Cole who was totally unbelievable in the part.  ',\n",
       "  0],\n",
       " ['Every time he opened his mouth you expect to hear, \"you see kids...\" Pulling the plug was a mercy killing for this horrible show.  ',\n",
       "  0],\n",
       " ['The stories were as unbelievable as the actors.  ', 0],\n",
       " ['Lame would be the best way to describe it.  ', 0],\n",
       " [\"Stanwyck and Morgan are perfectly cast in what is, in many ways, a modern equivalent of Dickens' Christmas Carol in its sensibility.  \",\n",
       "  1],\n",
       " ['The success of the film depends on the casting of Sydney Greenstreet as the Alexander Yardley character.  ',\n",
       "  1],\n",
       " ['The attractive set used throughout most of the film is an eye-pleasing gem.  ',\n",
       "  1],\n",
       " ['Im big fan of RPG games too, but this movie, its a disgrace to any self-respecting RPGer there is.  ',\n",
       "  0],\n",
       " ['The lines, the cuts, the audio, everything is wrong.  ', 0],\n",
       " ['You can find better movies at youtube.  ', 0],\n",
       " [\"Top line: Don't waste your time and money on this one, its as bad as it comes.  \",\n",
       "  0],\n",
       " ['A Lassie movie which should have been \"put to sleep\".... FOREVER.  ', 0],\n",
       " [\"That's how I'd describe this painfully dreary time-waster of a film.  \", 0],\n",
       " [\"So mediocre in every aspect that it just becomes a dull, uninteresting mess, this is one of the most forgettable movies I've seen.  \",\n",
       "  0],\n",
       " ['It isn\\'t even an achievement as a \"so-bad-it\\'s-good\" or \"so-bad-it\\'s-memorable\" movie.  ',\n",
       "  0],\n",
       " [\"It's an empty, hollow shell of a movie.  \", 0],\n",
       " [\"Seriously, it's not worth wasting your, or your kid's time on.  \", 0],\n",
       " ['Avoid, avoid, avoid!  ', 0],\n",
       " ['It will drive you barking mad!  ', 0],\n",
       " ['The transfers are very good.  ', 1],\n",
       " ['Very nice and relaxing late night viewing.  ', 1],\n",
       " ['The movie is full of wonderful dancing (hence the title!  ', 1],\n",
       " [') some great music, and terrific scenery.  ', 1],\n",
       " ['It handles some tough issues with dignity and grace, and, of course, has (shocking spoiler here!  ',\n",
       "  1],\n",
       " [') a happy, wonderful, feel good ending!  ', 1],\n",
       " ['The point is the journey, a journey that touches every member of the family.  ',\n",
       "  1],\n",
       " [\"It's one of the movies I need to see whenever it comes on TV...never mind the fact that I already have it memorized!  \",\n",
       "  1],\n",
       " ['Nothing new there.  ', 0],\n",
       " ['That was done in the second movie.  ', 0],\n",
       " ['The movie has almost no action scenes in it and very little comedy.  ', 0],\n",
       " ['The plot has more holes than a pair of fishnet stockings and the direction and editing is astonishingly ham fisted.  ',\n",
       "  0],\n",
       " ['What on earth is Irons doing in this film?  ', 0],\n",
       " ['I just saw this film and I recommend it.  ', 1],\n",
       " ['It has a very good plot, it holds your complete attention, the acting is superb, Tom Wilkinson was fantastic and Emily Watson was also very good.  ',\n",
       "  1],\n",
       " ['A very good film indeed, about great and unconditional love.  ', 1],\n",
       " [\"Tom Wilkinson's character is a man who is not prepared for the ordeal that is about to begin, but he takes the matter in hand as the story progresses, and this great actor gives a performance that makes you feel the character's anguish and suffering.  \",\n",
       "  1],\n",
       " [\"Emily Watson's character is very strong, and she has only to give a quick glance and you understand everything.  \",\n",
       "  1],\n",
       " ['Despite the pans of reviewers, I liked this movie.  ', 1],\n",
       " [\"In fact, I liked it better than Interview With a Vampire and I liked this Lestat (Stuart Townsend) better than Cruise's attempt.  \",\n",
       "  1],\n",
       " ['Aailiyah was pretty good as Akasha, in places compelling (her first entrance and mini dance scene).  ',\n",
       "  1],\n",
       " [\"I'm a big fan of this series mostly due to Anne Rice's style, sensitivities and treatments.  \",\n",
       "  1],\n",
       " ['I guess I liked the details of his dysfunction--he was believable.  ', 1],\n",
       " ['The football scenes at the end were perplexing.  ', 0],\n",
       " ['But I thought his acting was skilled.  ', 1],\n",
       " ['Meredith M was better than all right.  ', 1],\n",
       " ['A very charming film with wonderful sentiment and heart.  ', 1],\n",
       " [\"It is rare when a film-maker takes the time to tell a worthy moral tale with care and love that doesn't fall into the trap of being overly syrupy or over indulgent.  \",\n",
       "  1],\n",
       " ['Nine out of ten for a truly lovely film.  ', 1],\n",
       " ['This early film from future goremeister Lucio Fulci is a very good addition to the giallo sub-genre.  ',\n",
       "  1],\n",
       " [\"This is one of the best Italian thrillers of the early 70's.  \", 1],\n",
       " ['A standout scene.  ', 1],\n",
       " ['This scene is very strong and unpleasant.  ', 0],\n",
       " [\"Technically, the film is well made with impressive camera-work, solid acting and effective music from Riz Ortolani \\x96 particularly good is a recurring unaccompanied female vocal that sounds like it's coming from a distant hill.  \",\n",
       "  1],\n",
       " [\"It's still wild stuff though and is highly recommended to fans of giallo cinema.  \",\n",
       "  1],\n",
       " ['The movie was very interesting from beginning to the end.  ', 1],\n",
       " [\"I liked the way Dustin Hoffman's character was ready to do just about everything to stay with his son.  \",\n",
       "  1],\n",
       " ['This movie is also revealing.  ', 1],\n",
       " ['Personally, I think it shows that people should learn to find a compromise them self without involving other people into issue.  ',\n",
       "  1],\n",
       " ['And it was boring.  ', 0],\n",
       " ['I am so tired of clichés that is just lazy writing, and here they come in thick and fast.  ',\n",
       "  0],\n",
       " ['PS the only scene in the movie that was cool is when the central character finds her room blown up.  ',\n",
       "  1],\n",
       " [\"It's a fresh, subtle, and rather sublime effect.  \", 1],\n",
       " ['An Italian reviewer called this \"a small, great film,\" and that\\'s right.  ',\n",
       "  1],\n",
       " ['All the actors give a wonderful performance, especially Jennifer Rubin as Jamie Harris, who changes from the nervous starlet in the beginning through the strange events she is part of to the cool star.  ',\n",
       "  1],\n",
       " ['You learn a lot about the real inside emotions of people in this movie, and a lot about the movie business itself.  ',\n",
       "  1],\n",
       " ['The movie in movie situations in the beginning and through the game that is played with her by the \"acting coach\" are fascinating.  ',\n",
       "  1],\n",
       " [\"Also the music by Mark Snow is possibly the best score I've ever heard.  \",\n",
       "  1],\n",
       " [\"You won't forget this movie!  \", 1],\n",
       " ['Why was this film made?  ', 0],\n",
       " ['The film has an ultra-cheap look to it.  ', 0],\n",
       " [\"The result is a film that just don't look right.  \", 0],\n",
       " ['None of them are engaging or exciting.  ', 0],\n",
       " [\"The plot is nonsense that doesn't interest in the slightest way or have any uniqueness to it.  \",\n",
       "  0],\n",
       " ['The Foreigner is not worth one second of your time.  ', 0],\n",
       " ['I saw it as a child on TV back in 1973, when it was \"The Stranger\" and I loved it.  ',\n",
       "  1],\n",
       " [\"But the duet between the astronaut and his doctor at the beginning of the movie is a perfect exchange if one considers that this movie was made well into the Cold War and the astronaut's biggest fear is that he has crashed in the USSR.  \",\n",
       "  1],\n",
       " ['This movie is so awesome!  ', 1],\n",
       " ['I loved it, it was really scary.  ', 1],\n",
       " ['I love the Scream movies and all horror movies and this one ranks way up there.  ',\n",
       "  1],\n",
       " ['If you want a real scare rent this one!  ', 1],\n",
       " ['10/10  ', 1],\n",
       " ['This is an extraordinary film.  ', 1],\n",
       " [\"As a courtroom drama, it's compelling, as an indictment on the American justice system, it's frightening.  \",\n",
       "  1],\n",
       " [\"This film highlights the fundamental flaws of the legal process, that it's not about discovering guilt or innocence, but rather, is about who presents better in court.  \",\n",
       "  1],\n",
       " [\"The film is well paced, understated and one of the best courtroom documentaries I've seen.  \",\n",
       "  1],\n",
       " ['This mostly routine fact-based TV drama gets a boost from the fine performance by Cole.  ',\n",
       "  1],\n",
       " ['Predictable, but not a bad watch.  ', 1],\n",
       " ['It was clear that she had the range and ability to pull off this part.  ',\n",
       "  1],\n",
       " ['She carries the movie well.  ', 1],\n",
       " ['Constantine gives everything the right intensity and seems to have a good understanding of the underlying psychological motivations.  ',\n",
       "  1],\n",
       " ['It is wonderful and inspiring to watch, and I hope that it gets released again on to video or DVD.  ',\n",
       "  1],\n",
       " [\"How this piece of trash was ever released is beyond me: the acting, the story, the characters, the supposedly special effects, etc...it's ALL wrong.  \",\n",
       "  0],\n",
       " ['In fact, this stinker smells like a direct-to-video release.  ', 0],\n",
       " ['Avoid at ALL costs!  ', 0],\n",
       " ['Star Trek V The final Frontier is the worst in the series.  ', 0],\n",
       " ['The acting from all involved and that includes those like Shatner and Nimoy is bad and washed out and making them seem as old as they look in real life, the special effects are tacky like when Spock has to rescue Kirk on a jet pack when he falls down from a mountain.  ',\n",
       "  0],\n",
       " [\"The attempts at humor were pitiful and story is so awful it dosen't bear thinking about which basically involves a Vulcan stealing the Enterprise to find god (seriously) I just didn't care about any of this film and oh not to mention Uhura does a belly dance to distract male guards.  \",\n",
       "  0],\n",
       " ['The only place good for this film is in the garbage.  ', 0],\n",
       " ['The worst one of the series.  ', 0],\n",
       " ['Editing: The editing of this film was phenomenal in my opinion.  ', 1],\n",
       " [\"When a song could explain the emotions of the subjects better, such as when Jay Adams' unfortunate life was a subject of talk, the song Old Man by Neil Young was played, which evokes many emotions.  \",\n",
       "  1],\n",
       " ['Cinematography: The film was shot in an interesting way.  ', 1],\n",
       " ['Of course the footage from the 70s was grainy, but that only enhanced the film.  ',\n",
       "  1],\n",
       " ['This film offers many delights and surprises.  ', 1],\n",
       " ['When Achille and Philippa beautifully sing a duet from \"Don Giovanni\" that perfectly describes their situation in the movie, you appreciate the subtle layers of this excellent film.  ',\n",
       "  1],\n",
       " ['The story unfolds in 18th century Jutland and the use of period music played on period instruments is just one more fine touch.  ',\n",
       "  1],\n",
       " [\"You share General Loewenhielm's exquisite joy in his partaking of the Cailles en Sarcophage even though you are just watching a movie - but you do wish for just a small sample to savor.  \",\n",
       "  1],\n",
       " ['But this understated film leaves a lasting impression.  ', 1],\n",
       " ['The warmth it generates is in contrast to its austere backdrop.  ', 1],\n",
       " ['You will leave the theater wanting to go out and dance under the stars.  ',\n",
       "  1],\n",
       " [\"The acting, as you'd expect from this cast, is top notch.  \", 1],\n",
       " ['The characters are fleshed out surprisingly well, particularly Grimes and Blake, and all the actors deliver their sharply scripted lines with just the right amount of deadpan tongue in cheek to make the dialogue both hilarious and realistic.  ',\n",
       "  1],\n",
       " ['Angus Scrimm also turns in a good performance in a somewhat brief but memorable role as the gently menacing, violin-playing anatomist Doctor Quinn.  ',\n",
       "  1],\n",
       " ['Conclusion - I loved it.  ', 1],\n",
       " [\"It's a long time since I was so entertained by a movie.  \", 1],\n",
       " ['I struggle to find anything bad to say about it.  ', 1],\n",
       " ['Mark my words, this is one of those cult films like Evil Dead 2 or Phantasm that people will still be discovering and falling in love with 20, 30, 40 years down the line.  ',\n",
       "  1],\n",
       " [\"It's pretty surprising that this wonderful film was made in 1949, as Hollywood generally had its collective heads in the sand concerning black and white issues at that time.  \",\n",
       "  1],\n",
       " [\"The film deserves strong kudos for taking this stand, for having exceptional acting from its mostly lesser-known cast and for the super-intelligent script that doesn't insult the audience or take the easy way out when it comes to white racism.  \",\n",
       "  1],\n",
       " [\"Plus, with the movie's rather modest budget and fast running time, it does an amazing job!  \",\n",
       "  1],\n",
       " ['Juano Hernandez (an exceptional actor who played supporting roles in many films of the era) is a proud black man who is accused of murdering a white man in the South.  ',\n",
       "  1],\n",
       " ['Trumbull on I LOVE LUCY).  ', 1],\n",
       " ['See it with your kids if you have a chance--it will open up some amazing dialog about how far race relations have come in the last 50 years.  ',\n",
       "  1],\n",
       " ['See both films if you can.  ', 1],\n",
       " ['It was that year, however, that reminded us that Huston was still at the top of his game as evinced by his faithful adaptation of James Joyce\\'s acclaimed novella \"The Dead.  ',\n",
       "  1],\n",
       " [\"Feelings, thoughts...Gabriel's discomfort during the dance...all these intangibles leap to life and come within the viewer's grasp in Huston's portrayal.  \",\n",
       "  1],\n",
       " ['Very disappointed and wondered how it could be in the Oscar shortlist.  ',\n",
       "  0],\n",
       " [\"It's very slow.  \", 0],\n",
       " [\"Lot of holes in the plot: there's nothing about how he became the emperor; nothing about where he spend 20 years between his childhood and mature age.  \",\n",
       "  0],\n",
       " [\") Don't waste your time.  \", 0],\n",
       " [\"End of Days is one of the worst big-budget action movies I've ever seen.  \",\n",
       "  0],\n",
       " [\"He surely doesn't know how to make a coherent action movie from the screenwriter of Air Force One who was only obliged to write the script just for a big sum of money.  \",\n",
       "  0],\n",
       " ['This was one of the worst films i have ever seen.  ', 0],\n",
       " [\"I'm still trying to get over how bad it was.  \", 0],\n",
       " ['This movie is possibly one of the most creative works of horror ever.  ',\n",
       "  1],\n",
       " [\"It has everything you could want... suspense, drama, comedy, confusing subplots, native americans, brain eating... If you're looking for the be-all, end-all of brainsucking movies, look no further.  \",\n",
       "  1],\n",
       " [' With great sound effects, and impressive special effects, I can\\'t recommend this movie enough.  \\t1\\nCall me a nut, but I think this is one of the best movies ever.  \\t1\\nGreat character actors Telly Savalas and Peter Boyle.  \\t1\\n1 hour 54 minutes of sheer tedium, melodrama and horrible acting, a mess of a script, and a sinking feeling of GOOD LORD, WHAT WERE THEY THINKING?  \\t0\\nLots of holes in the script.  \\t0\\nIt\\'s like a bad two hour TV movie.  \\t0\\nNow imagine that every single one of those decisions was made wrong.  \\t0\\nThe dialogue is atrocious.  \\t0\\nThe acting is beyond abysmal.  \\t0\\nEverything stinks.  \\t0\\nTrouble is, the writing and directing make it impossible to establish those things that make a movie watchable, like character, story, theme and so on.  \\t0\\nWorse, there\\'s an incredibly weak sub-plot thrown in that follows a little band of latter-day Mansonites as they go after a reporter who\\'s working on a story on the anniversary of the killings.  \\t0\\nIt\\'s dumb and pointless, and a complete waste of time.  \\t0\\nIn short, don\\'t bother with this movie.  \\t0\\nI won\\'t spoil it, but the ending in pretty amazing.  \\t1\\nThe best scene in the movie is at the end, but I won\\'t spoil it.  \\t1\\nIf there was ever an indication of a writer and a director\\'s ability to meld two highly volatile temperaments into a seamless union of creativity, then this is it!  \\t1\\nThe result is a powerhouse achievement, made more timely now perhaps because of our culture\\'s disturbing fascination with celebrity, and it\\'s distorted interpretations of fame.  \\t1\\nA film not easily forgotten.  \\t1\\nBut, Kevin Spacey is an excellent, verbal tsunami as Buddy Ackerman \\x96 and totally believable because he is a great actor.  \\t1\\nThe scripting of the subtle comedy is unmatched by any movie in recent years.  \\t1\\nThe characters are interesting, even if a bit predictable.  \\t1\\nHighly recommended for all ages, although the younger set will probably not appreciate some of the more subtle references, they will certainly appreciate one galley scene in particular!  \\t1\\nGreat movie!  \\t1\\nAlso the story and acting were weak.  \\t0\\nAt around 4 pm I bought it, at around 8pm I started to watch, at around 8.15pm I fast forwarded the remaining film to see if there was anything left watchable for a human being with a brain... but there wasn\\'t.  \\t0\\nEither way, it sucks.  \\t0\\nThe script is horrendously stupid.  \\t0\\nThe story starts too fast with absolutely no suspense or build-up in the slightest.  \\t0\\nEverything Captain Howdy says is either laughable or just plain stupid.  \\t0\\nWhat the hell kind of crap is that?!  \\t0\\nThen, there\\'s the plot holes.  \\t0\\nYou could drive a semi truck into these holes!  \\t0\\nLinda Cardellini is the only thing good in this film.  \\t1\\nShe\\'s poised and amazing.  \\t1\\nDee Snider just plain sucks.  \\t0\\nHe can\\'t act (one of the least scary villains I have ever seen), he can\\'t write (did he write this damn movie in his sleep?  \\t0\\nI was bored throughout the whole damn thing.  \\t0\\nThe acting sucks, the music sucks, the script sucks, the pacing sucks, the special FX suck, the directing sucks... basically, this movie sucks.  \\t0\\nThis film tries to be a serious and sophisticated thriller/horror flick and it fails miserably.  \\t0\\nThis is probably one of the least effective and utterly unoriginal films I have ever seen in my entire life.  \\t0\\nA piece of cinematic garbage captured on celluloid.  \\t0\\nAvoid at any and all costs.  \\t0\\nAt any rate this film stinks, its not funny, and Fulci should have stayed with giallo and supernatural zombie movies.  \\t0\\nAvoid this film at all costs.  \\t0\\nI don\\'t know what happened in Season Five, what a mess.  \\t0\\nThe only consistent thread holding the series together were the amazing performances of Leni Parker and Anita LaSelva as the two Taelons in quiet idealogical conflict.  \\t0\\nNow this is a movie I really dislike.  \\t0\\nIt\\'s one of the most boring Horror movies from the 90\\'s mainly because it starts slow and centers in a boring atmosphere.  \\t0\\nThe puppets look really cheesy , not in a good way like in the Puppet Master 80\\'s flicks.  \\t0\\nThe story is lame, not interesting and NEVER really explains the sinister origins of the puppets.  \\t0\\nThere aren\\'t death scenes like in previous movies and the f/x are terrible.  \\t0\\nI felt asleep the first time I watched it, so I can recommend it for insomniacs.  \\t0\\nThe fact is, this film is a wonderful, heartwarming tale about two people chasing their dreams.  \\t1\\nThe best part about Nurse Betty\" is it\\'s unpredictability.  ',\n",
       "  1],\n",
       " ['Director Neil LaBute uses brutal violence to seperate dreams from reality, and along with the touching drama, and hilarious comedy, you can never tell what is going to happen next.  ',\n",
       "  1],\n",
       " [\"Otherwise, don't even waste your time on this.  \", 0],\n",
       " ['This one just fails to create any real suspense.  ', 0],\n",
       " [\"As for the killer, don't expect anything original or even remotely frightening.  \",\n",
       "  0],\n",
       " ['There is, however, some pretty good acting (at least, for this type of film).  ',\n",
       "  1],\n",
       " [\"I'm so sorry but I really can't recommend it to anyone.  \", 0],\n",
       " ['One of the most boring,pointless movies I have ever seen.  ', 0],\n",
       " ['The secondary plot line is incomprehensible and its relation to the primary plot line is mystifying.  ',\n",
       "  0],\n",
       " ['Hated it.  ', 0],\n",
       " ['This is one of the worst Sandra Bullock movie since Speed 2 But not quite that bad.  ',\n",
       "  0],\n",
       " [\"I don't understand how this garbage got on the shelves of the movie store, it's not even a real movie!  \",\n",
       "  0],\n",
       " ['I highly doubt that anyone could ever like this trash.  ', 0],\n",
       " ['This is not movie-making.  ', 0],\n",
       " [\"The acting is like watching wooden puppets moving around and reading from a book, that's how bad it is.  \",\n",
       "  0],\n",
       " ['So I am here to warn you--DO NOT RENT THIS MOVIE, it is the dumbest thing you have never seen!  ',\n",
       "  0],\n",
       " ['I saw this short film on HBO the other day and absolutely loved it.  ', 1],\n",
       " [\"I didn't realize how wonderful the short really is until the last two scenes.  \",\n",
       "  1],\n",
       " ['Excellent short film.  ', 1],\n",
       " ['Hopefully, the director James Cox can turn the short into a feature length film with the same cast, or win us over with a whole new film.  ',\n",
       "  1],\n",
       " ['I agree with Jessica, this movie is pretty bad.  ', 0],\n",
       " ['Characters are one-dimensional, even the good guys and especially the bad guys.  ',\n",
       "  0],\n",
       " ['The story line is totally predictable.  ', 0],\n",
       " ['Not much dialogue, not much music, the whole film was shot as elaborately and aesthetically like a sculpture.  ',\n",
       "  1],\n",
       " [\"I've seen soap operas more intelligent than this movie.  \", 0],\n",
       " ['Bad characters, bad story and bad acting.  ', 0],\n",
       " ['Really awful.  ', 0],\n",
       " ['Not easy to watch.  ', 0],\n",
       " [\"Funny, clever, hip - just like Pray's previous film, Hype!  \", 1],\n",
       " [\"It was a long time that i didn't see a so charismatic actor on screen.  \",\n",
       "  1],\n",
       " ['Paolo Sorrentino has written a wonderful story about loneliness and Tony has built one of the most unforgettable characters seen in movies in recent years.  ',\n",
       "  1],\n",
       " [\"The movie is not completely perfect but 'Titta Di Girolamo' will stay with you for a long time after the vision of the movie.  \",\n",
       "  1],\n",
       " ['I rate this movie 9/10.  ', 1],\n",
       " [\"I do not know if this was Emilio Estevez's directorial debut, but the pacing, the interplay and development of the characters as well as some clever camera work surrounding the character Estevez plays all suggest a natural eye.  \",\n",
       "  1],\n",
       " ['The interplay between Martin and Emilio contains the same wonderful chemistry we saw in Wall Street with Martin and Charlie.  ',\n",
       "  1],\n",
       " ['Kathy Bates is wonderful in her characters subtle desperation and escapism; a variation on her character in \"At Play In The Fields Of The Lord\".  ',\n",
       "  1],\n",
       " [\"For readers who have already seen one of Miyazaki's films: he is still in top form and made another worthwhile experience.  \",\n",
       "  1],\n",
       " ['It never condescends, all the characters have good genuine hearts and believable problems.  ',\n",
       "  1],\n",
       " ['The two main characters may be two of the most believable children I ever saw put on screen.  ',\n",
       "  1],\n",
       " ['They are so easy to love, but even more easy to identify with.  ', 1],\n",
       " ['This movie is great--especially if you enjoy visual arts.  ', 1],\n",
       " ['The scenery that the two daughters paint and photograph are beautiful.  ',\n",
       "  1],\n",
       " ['The story is also both funny and poignant at times.  ', 1],\n",
       " ['People who like European films and \"art movies\" will like this movie.  ',\n",
       "  1],\n",
       " ['This is truly an art movie--it actually has a lot of art in it.  ', 1],\n",
       " ['Go rent it.  ', 1],\n",
       " ['However, after finally watching this film, I realized that not only had I had a closed mind to the brilliance it depicts, I also found myself watching it over and over again.  ',\n",
       "  1],\n",
       " [\"It's the one movie that never ceases to interest me, simply because it keeps me alert, as I try to attempt to decipher it's meanings.  \",\n",
       "  1],\n",
       " ['Brilliance indeed.  ', 1],\n",
       " [\"But if you liked movies like The Matrix (and better yet, their sequels) I think you'll appreciate the thought provoking, mindblowing experience this film will give you.  \",\n",
       "  1],\n",
       " ['Think of the film being like a dream.  ', 1],\n",
       " ['Simply beautiful.  ', 1],\n",
       " [\"Both Rickman and Stowe play their roles to the hilt in this tale of a childrens' book writer who-- maybe?-- has written a subversive tract.  \",\n",
       "  1],\n",
       " [\"It's a gloriously fun, fast paced and fairly accurate portrayal of the night of a raver.  \",\n",
       "  1],\n",
       " ['It presents a idyllic yet serious portrayal of the ups and downs of the characters lives.  ',\n",
       "  1],\n",
       " ['Just whatever you do, avoid \"Groove\" as its the antithesis of all that is good about Human Traffic.  ',\n",
       "  0],\n",
       " [\"It's too bad that everyone else involved didn't share Crowe's level of dedication to quality, for if they did, we'd have a far better film on our hands than this sub-par mess.  \",\n",
       "  0],\n",
       " ['The movie seemed a little slow at first.  ', 0],\n",
       " ['But it picked up speed and got right to the point.  ', 1],\n",
       " ['It showed exactly how the government and the scientist argued for humanity and the reasons of the \"gadget\".  ',\n",
       "  1],\n",
       " ['I enjoyed it.  ', 1],\n",
       " ['I have recommended it to friends.  ', 1],\n",
       " ['I was particularly pleased with the acting ability of Dwight Schultz.  ',\n",
       "  1],\n",
       " ['Both actors truly understand and become their particular character, delivering a convincing, sincere performance.  ',\n",
       "  1],\n",
       " ['Their on-screen chemistry, critical to the entire film, is genuine.  ', 1],\n",
       " [\"The film's dialogue is natural, real to life.  \", 1],\n",
       " ['The writer, Gorman Bechard, undoubtedly did his homework because all references are industry and character-age appropriate.  ',\n",
       "  1],\n",
       " ['The incredible soundtrack truly captures the essence of the film.  ', 1],\n",
       " ['Each track commands sentiment, actually contributing to the scenes and characters.  ',\n",
       "  1],\n",
       " [\"Definitely worth seeing\\x85 it's the sort of thought provoking film that forces you to question your own threshold of loneliness.  \",\n",
       "  1],\n",
       " ['Hayao Miyazaki\\'s latest and eighth film for Studio Ghibili, \"Gake No Ue No Ponyo\" (Ponyo on the Cliff by the Sea) is a wonderfully fun and imaginative look at childhood.  ',\n",
       "  1],\n",
       " [\"At a time when it seems that film animation has been dominated by Disney/Pixar's CGI masterpieces, it is both refreshing and comforting to know that Miyazaki is still relying on traditional hand-drawn animation to tell his charming and enchanting stories.  \",\n",
       "  1],\n",
       " ['Enough can not be said of the remarkable animation in this film.  ', 1],\n",
       " ['The art style has the appearance of crayon/pencil drawings and is wonderfully colorful and fanciful.  ',\n",
       "  1],\n",
       " [\"If you act in such a film, you should be glad that you're gonna drift away from earth as far as possible!  \",\n",
       "  0],\n",
       " ['This one wants to surf on the small wave of space movies in 1998 (Deep Impact and Armageddon), and this one fails everywhere.  ',\n",
       "  0],\n",
       " [\"If you haven't choked in your own vomit by the end (by all the cheap drama and worthless dialogue) you've must have bored yourself to death with this waste of time.  \",\n",
       "  0],\n",
       " ['Still, it makes up for all of this with a super ending that depicts a great sea vessel being taken out by the mighty frost.  ',\n",
       "  1],\n",
       " ['Just consider the excellent story, solid acting and look of the film as added bonuses.  ',\n",
       "  1],\n",
       " ['Instead, we got a bore fest about a whiny, spoiled brat babysitting.  ', 0],\n",
       " ['Then I watched it again two Sundays ago (March 20th, 2005) and I began to really enjoy it and this time I taped the entire thing.  ',\n",
       "  1],\n",
       " ['It is a very well acted and done TV Movie.  ', 1],\n",
       " ['Judith Light is one of my favorite actresses and I think she does a superb job in this film!  ',\n",
       "  1],\n",
       " ['I keep watching it over and over.  ', 1],\n",
       " [\"It's a sad movie, but very good.  \", 1],\n",
       " ['If you have not seen this movie, I definitely recommend it!  ', 1],\n",
       " ['She is as lovely as usual, this cutie!  ', 1],\n",
       " [\"Still it's quite interesting and entertaining to follow.  \", 1],\n",
       " [';) Recommend with confidence!  ', 1],\n",
       " ['This movie is well-balanced with comedy and drama and I thoroughly enjoyed myself.  ',\n",
       "  1],\n",
       " [\"It was a riot to see Hugo Weaving play a sex-obsessed gay real estate salesman who uses his clients' houses for his trysts with the flaming Darren (Tom Hollander).  \",\n",
       "  1],\n",
       " [':) Anyway, the plot flowed smoothly and the male-bonding scenes were a hoot.  ',\n",
       "  1],\n",
       " ['The opening sequence of this gem is a classic, and the cat n mouse games that follow are a delight to watch.  ',\n",
       "  1],\n",
       " ['Fans of the genre will be in heaven.  ', 1],\n",
       " ['Lange had become a great actress.  ', 1],\n",
       " ['It looked like a wonderful story.  ', 1],\n",
       " ['I never walked out of a movie faster.  ', 0],\n",
       " ['I just got bored watching Jessice Lange take her clothes off!  ', 0],\n",
       " [\"Unfortunately, any virtue in this film's production work was lost on a regrettable script.  \",\n",
       "  0],\n",
       " ['In a word, it is embarrassing.  ', 0],\n",
       " ['Exceptionally bad!  ', 0],\n",
       " [\"All in all its an insult to one's intelligence and a huge waste of money.  \",\n",
       "  0]]"
      ]
     },
     "execution_count": 80,
     "metadata": {},
     "output_type": "execute_result"
    }
   ],
   "source": [
    "dfi.values.tolist()"
   ]
  },
  {
   "cell_type": "markdown",
   "metadata": {
    "id": "V4GAEA55t3ss"
   },
   "source": [
    "Además, se observa que cada comentario (review) debe estar separado de su evaluación (label) por un tabulador \"\\t\" y después separado del siguiente registro por un salto de línea \"\\n\".\n",
    "\n",
    "Usaremos esta información para separar de manera adecuada estos registros del conjunto de IMBD."
   ]
  },
  {
   "cell_type": "markdown",
   "metadata": {
    "id": "MfZZ0stLmWJN"
   },
   "source": [
    "##**Pregunta - 2:**"
   ]
  },
  {
   "cell_type": "markdown",
   "metadata": {
    "id": "7F6JF5BommZ6"
   },
   "source": [
    "En este ejercicio deberás corregir este problema que tienen los comentarios de IMBD, del cual se registran 748 comentarios, cuando deben ser 1000.\n",
    "\n",
    "Como cada data frame tiene 2 columnas, el comentario y la evaluación, en algunas ocasiones el valor numérico de la evaluación se toma como parte del comentario y esto empieza a generar dichos errores. \n",
    "\n",
    "El problema se puede intentar resolver de varias formas, sin embargo puedes al menos seguir los siguientes pasos para obtener de nuevo los 1000 comentarios en IMBD:\n",
    "\n",
    "\n",
    "1.   Conjuntar en un solo string cada comentario (review) con su evaluación (label), separados por un tabulador \"\\t\". Toma en cuenta que ambos deben ser del tipo de dato string.\n",
    "\n",
    "2.   Separa cada uno de estos string con el método split() y con respecto al salto de línea \"\\n\". Esto te debe llevar a que cada registro es ahora una lista con un solo string que contiene el comenario (review), seguido del tabulador y de la etiqueta (label). O bien, tienes una lista de varios string, donde cada string es un review, seguido por el tabulador y su label.\n",
    "\n",
    "3.   Ahora separa cada cada uno de los string del paso anterior con respecto al tabulador \"\\t\", para ya tener separados ahora sí, todos los comentarios (review) de su evaluación (label). \n",
    "\n",
    "4.   Agrega cada uno de estos nuevos comentarios (review) y etiquetas (label) a la nueva lista que llamamos \"newdfi\".\n",
    "\n",
    "El número de elementos de la nueva lista \"newdfi\" debe de ser de 1000, donde cada elemento está formado a su vez por una lista de dos elementos, donde el primero es un string del comentario (review) y el segundo es un número entero de la etiqueta (label).\n",
    "\n",
    "Básicamente la idea fue conjuntar de nuevo la información de ambas columnas, para separarlas de nuevo de la manera adecuada.\n",
    "\n",
    "\n",
    "\n",
    "\n"
   ]
  },
  {
   "cell_type": "code",
   "execution_count": 98,
   "metadata": {
    "id": "EzlvMeYg44Vh"
   },
   "outputs": [
    {
     "name": "stdout",
     "output_type": "stream",
     "text": [
      "La nueva lista tiene 1000 elementos: True\n"
     ]
    }
   ],
   "source": [
    "tmpdfi = dfi.values.tolist()     # lista con los 748 registros.\n",
    "newdfi=[]     # lista de salida que deberá tener los 1000 registros ya debidamente separados.\n",
    "aux_list=[]   # Lista auxiliar\n",
    "\n",
    "################################################################################\n",
    "# AGREGA AQUÍ TUS LÍNEAS DE CÓDIGO - Pregunta 2:\n",
    "\n",
    "for x,y in tmpdfi:\n",
    "    aux_list.append(x+'\\t'+str(y))\n",
    "\n",
    "for x in aux_list:\n",
    "    x = x.split('\\n')\n",
    "    for t in x:\n",
    "        newdfi.append(t.split('\\t'))\n",
    "        \n",
    "# FIN PARA AGREGAR TUS LÍNEAS DE CÓDIGO.\n",
    "################################################################################\n",
    "\n",
    "\n",
    "print('La nueva lista tiene 1000 elementos:', (len(newdfi)==1000))"
   ]
  },
  {
   "cell_type": "code",
   "execution_count": 99,
   "metadata": {
    "id": "HRa-JacVmPmw"
   },
   "outputs": [
    {
     "data": {
      "text/plain": [
       "[[\"I'll put this gem up against any movie in terms of screenplay, cinematography, acting, post-production, editing, directing, or any other aspect of film-making.  \",\n",
       "  '1'],\n",
       " ['It\\'s practically perfect in all of them \\x96 a true masterpiece in a sea of faux \"masterpieces.  ',\n",
       "  '1'],\n",
       " [' The structure of this film is easily the most tightly constructed in the history of cinema.  ',\n",
       "  '1'],\n",
       " ['I can think of no other film where something vitally important occurs every other minute.  ',\n",
       "  '1']]"
      ]
     },
     "execution_count": 99,
     "metadata": {},
     "output_type": "execute_result"
    }
   ],
   "source": [
    "# Verificando los registros donde habíamos detectado uno de los problemas:\n",
    "newdfi[17:21]"
   ]
  },
  {
   "cell_type": "markdown",
   "metadata": {
    "id": "lKwo0kaX3W0d"
   },
   "source": [
    "En particular la salida anterior debe ser algo como lo siguiente:"
   ]
  },
  {
   "cell_type": "markdown",
   "metadata": {
    "id": "tsi7m2oM3968"
   },
   "source": [
    "![image.png](data:image/png;base64,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)"
   ]
  },
  {
   "cell_type": "markdown",
   "metadata": {
    "id": "Ko8mjGzu50gA"
   },
   "source": [
    "Transformemos en data frame la lista recién generada de los comentarios (review) y evaluaciones (label) del conjunto de evaluaciones de películas IMBD:"
   ]
  },
  {
   "cell_type": "code",
   "execution_count": 100,
   "metadata": {
    "id": "bai-xFkHTRpT"
   },
   "outputs": [
    {
     "name": "stdout",
     "output_type": "stream",
     "text": [
      "<class 'pandas.core.frame.DataFrame'>\n",
      "RangeIndex: 1000 entries, 0 to 999\n",
      "Data columns (total 2 columns):\n",
      " #   Column  Non-Null Count  Dtype \n",
      "---  ------  --------------  ----- \n",
      " 0   review  1000 non-null   object\n",
      " 1   label   1000 non-null   object\n",
      "dtypes: object(2)\n",
      "memory usage: 15.8+ KB\n"
     ]
    }
   ],
   "source": [
    "dfii = pd.DataFrame(newdfi, columns=['review','label'])\n",
    "\n",
    "dfii.info()"
   ]
  },
  {
   "cell_type": "code",
   "execution_count": 101,
   "metadata": {
    "id": "t6GTMhaSjHSE"
   },
   "outputs": [
    {
     "name": "stdout",
     "output_type": "stream",
     "text": [
      "<class 'pandas.core.frame.DataFrame'>\n",
      "RangeIndex: 3000 entries, 0 to 2999\n",
      "Data columns (total 2 columns):\n",
      " #   Column  Non-Null Count  Dtype \n",
      "---  ------  --------------  ----- \n",
      " 0   review  3000 non-null   object\n",
      " 1   label   3000 non-null   object\n",
      "dtypes: object(2)\n",
      "memory usage: 47.0+ KB\n"
     ]
    }
   ],
   "source": [
    "# y concatenamos los tres conjuntos para tener finalmente los 3000 registros:\n",
    "\n",
    "df = pd.concat([dfa, dfii, dfy], ignore_index=True)   # Tienes que usar el \"ignore_index\", de lo contrario reincia cada \n",
    "                                                      # vez de 0 a 999 los índices.\n",
    "\n",
    "df.info()"
   ]
  },
  {
   "cell_type": "markdown",
   "metadata": {
    "id": "uYxS59gpRUf0"
   },
   "source": [
    "La salida esperada anterior debe ser semajante a los siguiente:"
   ]
  },
  {
   "cell_type": "markdown",
   "metadata": {
    "id": "WR0203FoRv_R"
   },
   "source": [
    "![image.png](data:image/png;base64,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)"
   ]
  },
  {
   "cell_type": "code",
   "execution_count": 102,
   "metadata": {
    "id": "oE60DolF9uxC"
   },
   "outputs": [
    {
     "data": {
      "text/plain": [
       "0    1000\n",
       "1    1000\n",
       "0     500\n",
       "1     500\n",
       "Name: label, dtype: int64"
      ]
     },
     "execution_count": 102,
     "metadata": {},
     "output_type": "execute_result"
    }
   ],
   "source": [
    "df['label'].value_counts()   # Recordemos que tenemos un 50% de comentarios positivos y de negativos."
   ]
  },
  {
   "cell_type": "code",
   "execution_count": 103,
   "metadata": {
    "id": "e7Af0Ouk7WQP"
   },
   "outputs": [
    {
     "data": {
      "text/html": [
       "<div>\n",
       "<style scoped>\n",
       "    .dataframe tbody tr th:only-of-type {\n",
       "        vertical-align: middle;\n",
       "    }\n",
       "\n",
       "    .dataframe tbody tr th {\n",
       "        vertical-align: top;\n",
       "    }\n",
       "\n",
       "    .dataframe thead th {\n",
       "        text-align: right;\n",
       "    }\n",
       "</style>\n",
       "<table border=\"1\" class=\"dataframe\">\n",
       "  <thead>\n",
       "    <tr style=\"text-align: right;\">\n",
       "      <th></th>\n",
       "      <th>review</th>\n",
       "      <th>label</th>\n",
       "    </tr>\n",
       "  </thead>\n",
       "  <tbody>\n",
       "    <tr>\n",
       "      <th>0</th>\n",
       "      <td>So there is no way for me to plug it in here i...</td>\n",
       "      <td>0</td>\n",
       "    </tr>\n",
       "    <tr>\n",
       "      <th>1</th>\n",
       "      <td>Good case, Excellent value.</td>\n",
       "      <td>1</td>\n",
       "    </tr>\n",
       "    <tr>\n",
       "      <th>2</th>\n",
       "      <td>Great for the jawbone.</td>\n",
       "      <td>1</td>\n",
       "    </tr>\n",
       "    <tr>\n",
       "      <th>3</th>\n",
       "      <td>Tied to charger for conversations lasting more...</td>\n",
       "      <td>0</td>\n",
       "    </tr>\n",
       "    <tr>\n",
       "      <th>4</th>\n",
       "      <td>The mic is great.</td>\n",
       "      <td>1</td>\n",
       "    </tr>\n",
       "  </tbody>\n",
       "</table>\n",
       "</div>"
      ],
      "text/plain": [
       "                                              review label\n",
       "0  So there is no way for me to plug it in here i...     0\n",
       "1                        Good case, Excellent value.     1\n",
       "2                             Great for the jawbone.     1\n",
       "3  Tied to charger for conversations lasting more...     0\n",
       "4                                  The mic is great.     1"
      ]
     },
     "execution_count": 103,
     "metadata": {},
     "output_type": "execute_result"
    }
   ],
   "source": [
    "df.head()"
   ]
  },
  {
   "cell_type": "markdown",
   "metadata": {
    "id": "qzKiZYuhoHor"
   },
   "source": [
    "##**Pregunta - 3:**"
   ]
  },
  {
   "cell_type": "markdown",
   "metadata": {
    "id": "pGoks5N5ny3-"
   },
   "source": [
    "Sabemos que existen comentarios muy diversos. Por ejemplo, observa los registros 1125 y 1788, cuyas salidas deben de ser 10/10. De los 3000, dos de los comentarios fueron simplemente de esta forma.\n",
    "\n",
    "Cuando apliques el proceso de limpieza en la pregunta 4, como solo consideraremos caracteres alfabéticos, estos dos registros quedarán vacíos.\n",
    "\n",
    "En particular ¿cómo tratarías estos dos comentarios? ¿Simplemente los descartarías? ¿Los incluirías haciendo algún ajuste particular? ¿Alguna otra decisión que consideres adecuada para estos dos casos? \n",
    "\n",
    "**Incluye a continuación tus comentarios sobre la decisión que tomarías para el tratamiento en particular de estos dos registros, 1125 y 1788. Justifica tu respuesta.**"
   ]
  },
  {
   "cell_type": "code",
   "execution_count": 104,
   "metadata": {
    "id": "Cgpz9GTPnbe8"
   },
   "outputs": [
    {
     "data": {
      "text/plain": [
       "review    10/10  \n",
       "label           1\n",
       "Name: 1788, dtype: object"
      ]
     },
     "execution_count": 104,
     "metadata": {},
     "output_type": "execute_result"
    }
   ],
   "source": [
    "df.iloc[1788,:]   # verificando tu salida"
   ]
  },
  {
   "cell_type": "code",
   "execution_count": 137,
   "metadata": {},
   "outputs": [
    {
     "data": {
      "text/plain": [
       "review    10/10  \n",
       "label           1\n",
       "Name: 1125, dtype: object"
      ]
     },
     "execution_count": 137,
     "metadata": {},
     "output_type": "execute_result"
    }
   ],
   "source": [
    "df.iloc[1125,:]   # verificando tu salida"
   ]
  },
  {
   "cell_type": "markdown",
   "metadata": {
    "id": "G2IvO-KKo33m"
   },
   "source": [
    "########################################################\n",
    "##### **AGREGA AQUÍ TUS COMENTARIOS - Pregunta 3:**\n",
    "\n",
    "\n",
    "Para el comentario 1788 podemos agregarlos a las consideraciones como una palabra válida tratándose de comentarios válidos para como parte de los comentarios positivos realizados por los clientes.\n",
    "\n",
    "\n",
    "\n",
    "##### **FIN PARA AGREGAR TUS COMENTARIOS**\n",
    "#########################################################"
   ]
  },
  {
   "cell_type": "code",
   "execution_count": 138,
   "metadata": {
    "id": "lcJX3iG29jxs"
   },
   "outputs": [],
   "source": [
    " # Separamos la información: \n",
    " #     La \"X\" serán los datos de entrada, los comentarios.\n",
    " #     La \"Y\" será la variable de salida, la evaluación.\n",
    " # Ambos, X y Y son \"Series\" \n",
    "\n",
    "X = df.review     # Serie de strings\n",
    "Y = df.label      # Serie de enteros 0s y 1s\n",
    "\n",
    "assert X.shape == (3000,)           # verificando que tenemos la dimensiones esperadas.\n",
    "assert Y.shape == (3000,)"
   ]
  },
  {
   "cell_type": "markdown",
   "metadata": {
    "id": "xcT5_EvAHIaE"
   },
   "source": [
    "##**Pregunta - 4:**"
   ]
  },
  {
   "cell_type": "markdown",
   "metadata": {
    "id": "sDNn-WU4HKJD"
   },
   "source": [
    "**En esta etapa deberás llevar a cabo el procesamiento, limpieza y tokenización de los comentarios de texto.**\n",
    "\n",
    "Deberás de incluir los procesos que se indicarán a continuación, aunque no necesariament deben ser en este orden. De hecho deberás estar revisando la salida de algunos de los registros para que determines cual consideras podría ser el mejor orden de estos pasos.\n",
    "\n",
    "La incluiremos en una función llamada \"clean_tok()\" ya que es la tokenización y limpieza básica de cada uno de los 3000 comentarios. La entrada de esta función son cada uno de estos 3000 strings/comentarios.\n",
    "\n",
    "Lo que nos regresa \"clean_tok()\" es una lista de tokens/strings ya simplificados de cada comentario de entrada.\n",
    "\n",
    "Los pasos a incluir son los siguientes (repito, tú deberás determinar el orden de ellos, aquí se incluyen en orden alfabético):\n",
    "\n",
    "*   **Caracteres alfabéticos:** Solo considerar caracteres alfabéticos. Por lo tanto, deberán ser eliminados signos de puntuación, caracteres especiales y números.\n",
    "\n",
    "*   **Longitud mayor a 1:** Se deben considerar solamente tokens de longitud mayor a 1.\n",
    "\n",
    "*   **Minúsculas:** Simplificar todo a minúsculas.\n",
    "\n",
    "*   **Stopwords:** Eliminar las stopwords.\n",
    "\n",
    "*   **Tokenización:** Cada comentario queda tokenizado por palabras, o cadena de caracteres alfabéticos.\n",
    "\n",
    "Por ejemplo, si el primer comentario de X fuera el string 'All you need is love!', lo que nos regresaría clean_tok() sería la lista de strings ['need', 'love'] que llamaremos \"tokens\"."
   ]
  },
  {
   "cell_type": "code",
   "execution_count": 139,
   "metadata": {},
   "outputs": [
    {
     "name": "stdout",
     "output_type": "stream",
     "text": [
      "0       So there is no way for me to plug it in here i...\n",
      "1                             Good case, Excellent value.\n",
      "2                                  Great for the jawbone.\n",
      "3       Tied to charger for conversations lasting more...\n",
      "4                                       The mic is great.\n",
      "                              ...                        \n",
      "2995    I think food should have flavor and texture an...\n",
      "2996                             Appetite instantly gone.\n",
      "2997    Overall I was not impressed and would not go b...\n",
      "2998    The whole experience was underwhelming, and I ...\n",
      "2999    Then, as if I hadn't wasted enough of my life ...\n",
      "Name: review, Length: 3000, dtype: object\n"
     ]
    }
   ],
   "source": [
    "print(X)"
   ]
  },
  {
   "cell_type": "code",
   "execution_count": 253,
   "metadata": {
    "id": "K59mMXdnVHoV"
   },
   "outputs": [],
   "source": [
    "\n",
    "def clean_tok(doc):\n",
    "    ################################################################################\n",
    "    # AGREGA AQUÍ TUS LÍNEAS DE CÓDIGO - Pregunta 2:\n",
    "    Xclean = []\n",
    "    tokens = []\n",
    "    Xtoks = []\n",
    "    Xfinalt = []\n",
    "    \n",
    "    Xwords = re.sub(r'[^a-zA-ZáéíóúüñÁÉÍÓÚÜÑ]', ' ', doc)\n",
    "    Xtoks = [Xwords.lower().split()]\n",
    "    \n",
    "    for x in Xtoks:\n",
    "        for t in Xtoks:\n",
    "            if t in mystopwords:\n",
    "                x.remove(t)\n",
    "        Xclean.append(x)\n",
    "    \n",
    "    for x in Xclean:\n",
    "        for t in x:\n",
    "            if len(t) == 1:\n",
    "                x.remove(t)\n",
    "        tokens.extend(x)\n",
    "    \n",
    "    # FIN PARA AGREGAR TUS LÍNEAS DE CÓDIGO.\n",
    "    ##############################################################################\n",
    "\n",
    "    return tokens"
   ]
  },
  {
   "cell_type": "code",
   "execution_count": 254,
   "metadata": {
    "id": "emzufPuTBA2Y"
   },
   "outputs": [],
   "source": [
    "# Aplicamos el proceso de limpieza y tokenización:\n",
    "\n",
    "Xcleantok = [clean_tok(x) for x in X]   "
   ]
  },
  {
   "cell_type": "markdown",
   "metadata": {
    "id": "d_EHTfav_5Qs"
   },
   "source": [
    "Veamos los primeros comentarios.\n",
    "\n",
    "En particular observa si \"minutes\" y \"major\" están como dos tokens separados en el cuarto comentario. De nos ser así, si aparecen juntos como un solo token, debes revisar tu proceso de limpieza anterior, porque esto significa que pueden existir otros muchos casos que nos llevan a esta salida no deseada. Trata de determinar el origen de este problema (y solo en caso de que te haya aparecido como un solo token \"minutesmajor\", en el cuarto comentario).\n"
   ]
  },
  {
   "cell_type": "code",
   "execution_count": 257,
   "metadata": {
    "id": "06yGlUdtCvhd"
   },
   "outputs": [
    {
     "name": "stdout",
     "output_type": "stream",
     "text": [
      "['so', 'there', 'is', 'no', 'way', 'for', 'me', 'to', 'plug', 'it', 'in', 'here', 'in', 'the', 'us', 'unless', 'go', 'by', 'converter']\n",
      "['good', 'case', 'excellent', 'value']\n",
      "['great', 'for', 'the', 'jawbone']\n",
      "['tied', 'to', 'charger', 'for', 'conversations', 'lasting', 'more', 'than', 'minutes', 'major', 'problems']\n",
      "['the', 'mic', 'is', 'great']\n"
     ]
    }
   ],
   "source": [
    "for x in Xcleantok[0:5]:\n",
    "  print(x)"
   ]
  },
  {
   "cell_type": "markdown",
   "metadata": {
    "id": "IXc4Z2m6WMUq"
   },
   "source": [
    "##**Pregunta - 5:**"
   ]
  },
  {
   "cell_type": "markdown",
   "metadata": {
    "id": "2A2q04w1WOT3"
   },
   "source": [
    "Esta pregunta es abierta y podrás incluir todos aquellos procesos de limpieza adicionales que desees.\n",
    "\n",
    "Por ejemplo, puedes decidir aplicar algunos procesos (regex) para simplificar caracteres que aparecen repetidos más de dos veces, o bien simplificar algunas conjugaciones de verbos regulares para no incluir terminaciones en \"s\", \"ed\" o \"ing\". Puedes también decidir aplicar alguna de las técnicas de stemming o de lemmatization, etc.\n",
    "\n",
    "NOTA: Deberás aplicar al menos dos procesos de limpieza o normalización adicionales en esta función que llamamos simplemente clean_doc().\n",
    "\n",
    "La entrada son cada una de las listas con los comentarios tokenizados de Xcleantok y la salida es una lista de tokens simplficados/normalizados con el nombre de \"tokens\". En dado caso, algunos de los comentarios tokenizados pudieran no surgir cambio alguno bajo esta función.\n",
    "\n",
    "Recuerda que el objetivo de esta función \"clean_doc()\" es tener datos más limpios para el proceso de entrenamiento con los algoritmos de aprendizaje automático que se realizarán en las últimas preguntas.\n",
    "\n",
    "Puedes inspeccionar de manera aleatoria algunos de los 3000 registros para determinar qué procesos de limpieza adicionales incluir."
   ]
  },
  {
   "cell_type": "code",
   "execution_count": 258,
   "metadata": {},
   "outputs": [
    {
     "name": "stderr",
     "output_type": "stream",
     "text": [
      "[nltk_data] Downloading package wordnet to\n",
      "[nltk_data]     C:\\Users\\ingsa\\AppData\\Roaming\\nltk_data...\n",
      "[nltk_data]   Package wordnet is already up-to-date!\n"
     ]
    },
    {
     "data": {
      "text/plain": [
       "True"
      ]
     },
     "execution_count": 258,
     "metadata": {},
     "output_type": "execute_result"
    }
   ],
   "source": [
    "nltk.download('wordnet')"
   ]
  },
  {
   "cell_type": "code",
   "execution_count": 259,
   "metadata": {},
   "outputs": [],
   "source": []
  },
  {
   "cell_type": "code",
   "execution_count": 270,
   "metadata": {
    "id": "W64PSuG6usny"
   },
   "outputs": [],
   "source": [
    "##############################################################################\n",
    "# AGREGA AQUÍ TUS LÍNEAS DE CÓDIGO - Pregunta 5:\n",
    "\n",
    "# Aquí puedes incluir las librerías, paquetes o líneas de código necesarias para\n",
    "# el proceso de limpieza adicional de esta pregunta:\n",
    "\n",
    "rs = RegexpStemmer(r'ing$|ed$|s$|t$', min=3)   # definimos la regla deseada construyendo un objeto de RegexpStemmer().\n",
    "wnl = WordNetLemmatizer() \n",
    "\n",
    "def clean_doc(doc):\n",
    "\n",
    "    tokens = [rs.stem(w) for w in doc]\n",
    "    tokens = [wnl.lemmatize(w) for w in tokens]\n",
    "\n",
    "    return tokens\n",
    "# FIN PARA AGREGAR TUS LÍNEAS DE CÓDIGO.\n",
    "##############################################################################"
   ]
  },
  {
   "cell_type": "code",
   "execution_count": 271,
   "metadata": {
    "id": "gXwjkV9wcN1v"
   },
   "outputs": [],
   "source": [
    "# Aplicamos el proceso de limpieza/normalización adicionales:\n",
    "\n",
    "Xclean = [clean_doc(x) for x in Xcleantok]  "
   ]
  },
  {
   "cell_type": "code",
   "execution_count": 273,
   "metadata": {
    "id": "OP5J6aLGcNv2"
   },
   "outputs": [
    {
     "data": {
      "text/plain": [
       "[['so',\n",
       "  'there',\n",
       "  'is',\n",
       "  'no',\n",
       "  'way',\n",
       "  'for',\n",
       "  'me',\n",
       "  'to',\n",
       "  'plug',\n",
       "  'it',\n",
       "  'in',\n",
       "  'here',\n",
       "  'in',\n",
       "  'the',\n",
       "  'u',\n",
       "  'unless',\n",
       "  'go',\n",
       "  'by',\n",
       "  'converter'],\n",
       " ['good', 'case', 'excellent', 'value'],\n",
       " ['great', 'for', 'the', 'jawbone'],\n",
       " ['tied',\n",
       "  'to',\n",
       "  'charger',\n",
       "  'for',\n",
       "  'conversation',\n",
       "  'lasting',\n",
       "  'more',\n",
       "  'than',\n",
       "  'minute',\n",
       "  'major',\n",
       "  'problem'],\n",
       " ['the', 'mic', 'is', 'great']]"
      ]
     },
     "execution_count": 273,
     "metadata": {},
     "output_type": "execute_result"
    }
   ],
   "source": [
    "Xclean[0:5] # Veamos los primero registros para ver cómo va quedando el resultado."
   ]
  },
  {
   "cell_type": "markdown",
   "metadata": {
    "id": "1iurTQ-X5WdC"
   },
   "source": [
    "##**Pregunta - 6:**"
   ]
  },
  {
   "cell_type": "markdown",
   "metadata": {
    "id": "bAEWuvU975bV"
   },
   "source": [
    "En esta pregunta deberás generar la nube de palabras de cada clase: la de los comentarios positivos y la de los comentarios negativos.\n",
    "\n",
    "En la primera parte de esta pregunta y a partir del conjunto de comentarios obtenido hasta ahora, Xclean, deberás obtener el string de comentarios positivos llamada \"pt\" y el de comentarios negativos \"nt\".\n",
    "\n",
    "En la parte 2 deberás mostrar las dos nubes de palabras: la nube de palabras de los comentarios positivos y la nube de palabras de los comentarios negativos.\n",
    "\n",
    "En la parte 3 de este ejercicio deberás incluir tus comentarios de lo que observas de ambas nubes de palabras.\n",
    "\n",
    "Igualmente deberás incluir los paquetes o librerías necesarios."
   ]
  },
  {
   "cell_type": "code",
   "execution_count": null,
   "metadata": {
    "id": "kbcd3ylu80V3"
   },
   "outputs": [],
   "source": [
    "##############################################################################\n",
    "# AGREGA AQUÍ TUS LÍNEAS DE CÓDIGO - Pregunta 6 - parte 1:\n",
    "\n",
    "\n",
    "None\n",
    "\n",
    "\n",
    "\n",
    "\n",
    "\n",
    "pt = None\n",
    "nt = None\n",
    "\n",
    "# FIN PARA AGREGAR TUS LÍNEAS DE CÓDIGO.\n",
    "##############################################################################"
   ]
  },
  {
   "cell_type": "code",
   "execution_count": null,
   "metadata": {
    "id": "wiDmIOar9wkS"
   },
   "outputs": [],
   "source": [
    "##############################################################################\n",
    "# AGREGA AQUÍ TUS LÍNEAS DE CÓDIGO - Pregunta 6 - parte 2:\n",
    "\n",
    "\n",
    "None\n",
    "\n",
    "\n",
    "# FIN PARA AGREGAR TUS LÍNEAS DE CÓDIGO.\n",
    "##############################################################################"
   ]
  },
  {
   "cell_type": "markdown",
   "metadata": {
    "id": "2WvHCKq9AGzi"
   },
   "source": [
    "######################################################################\n",
    "###### **AGREGA AQUÍ TUS COMENTARIOS - Pregunta 6 - parte 3:**\n",
    "\n",
    "\n",
    "None\n",
    "\n",
    "\n",
    "###### **FIN PARA AGREGAR TUS COMENTARIOS.**\n",
    "######################################################################"
   ]
  },
  {
   "cell_type": "markdown",
   "metadata": {
    "id": "xoD1rSYcDlFH"
   },
   "source": [
    "###**Train-Validation-Test**\n",
    "\n",
    "Para este ejercicio realizaremos una partición de train-validation-test del 70%-15%-15%, respectivamente. \n",
    "\n",
    "Obviamente la distribución de esta partición puede ser otro de los hiperparámetros a determinar, pero para fines de este ejercicio consideraremos dichos valores."
   ]
  },
  {
   "cell_type": "code",
   "execution_count": null,
   "metadata": {
    "id": "5xsYb82cDqPN"
   },
   "outputs": [],
   "source": [
    "from sklearn.model_selection import train_test_split\n",
    "\n",
    "x_train, x_val_and_test, y_train, y_val_and_test = train_test_split(Xclean, Y, train_size=.70, shuffle=True, random_state=1) \n",
    "x_val, x_test, y_val, y_test = train_test_split(x_val_and_test, y_val_and_test, test_size=.50, shuffle=True, random_state=17)\n",
    "\n",
    "print('X,y Train:', len(x_train), len(y_train))      # los \"x_\" son \"list\" y los \"y_\" son \"Series\"\n",
    "print('X,y Val:', len(x_val), len(y_val))\n",
    "print('X,y Test', len(x_test), len(y_test))"
   ]
  },
  {
   "cell_type": "markdown",
   "metadata": {
    "id": "TJ4zQIwhIClF"
   },
   "source": [
    "###Construyamos a continuación nuestro vocabulario de palabras con base al conteo de tokens/palabras del conjunto de entrenamiento."
   ]
  },
  {
   "cell_type": "code",
   "execution_count": null,
   "metadata": {
    "id": "7pNEUJPHDt5U"
   },
   "outputs": [],
   "source": [
    "from collections import Counter"
   ]
  },
  {
   "cell_type": "code",
   "execution_count": null,
   "metadata": {
    "id": "KvXZKduYIKZ1"
   },
   "outputs": [],
   "source": [
    "midiccionario = Counter()    \n",
    "\n",
    "for k in range(len(x_train)):\n",
    "  midiccionario.update(x_train[k])\n",
    "\n",
    "\n",
    "print('Longitud del diccionario:', len(midiccionario))  \n",
    "print('\\n(word,frequency):') \n",
    "print(midiccionario.most_common(10)) "
   ]
  },
  {
   "cell_type": "code",
   "execution_count": null,
   "metadata": {
    "id": "nK-JoAH0PbAm"
   },
   "outputs": [],
   "source": [
    "# Veamos la gráfica de palabras nuestro diccionario con base a la frecuencia de las palabras/tokens:\n",
    "\n",
    "plt.plot(list(np.arange(len(midiccionario))), list(midiccionario.values()), color='blue')\n",
    "plt.show()"
   ]
  },
  {
   "cell_type": "markdown",
   "metadata": {
    "id": "5zh6yVo3QJAL"
   },
   "source": [
    "###Descartemos palabras cuya frecuencia en el conjunto de entrenamiento es muy pequeña:"
   ]
  },
  {
   "cell_type": "markdown",
   "metadata": {
    "id": "m1GlIF47I15k"
   },
   "source": [
    "##**Pregunta - 7:**"
   ]
  },
  {
   "cell_type": "markdown",
   "metadata": {
    "id": "Xm6Du9arI8W8"
   },
   "source": [
    "En esta pregunta deberás determinar la frecuencia mínima de aparición de los tokens del diccionario/vocabulario en el conjunto de entrenamiento. Es usual que al menos se filtren los tokens de frecuencia 1, ya que usualmente no dan mayor información.\n",
    "\n",
    "Sin embargo, la respuesta a si debemos filtrar todavía tokens de mayor frecuencia dependerá del tamaño que tengas actualmente de tu vocabulario y de la calidad de dichos tokens. Una manera de determinar dicha calidad de los tokens es con el resultado de los modelos de aprendizaje (regresión logística, random-forest, etc.) que aplicarás en los ejercicios de la última parte de esta Actividad.\n",
    "\n",
    "Así que por el momento puedes poner un valor arbitrario y más adelante ajustarlo con base al desempeño que obtengas de los modelos.\n",
    "\n",
    "Sin embargo, debes cuidar que la frecuencia de los tokens no la consideres demasiado grande, que empieces a generar una gran cantidad de comentarios vacíos en tu conjunto de entrenamiento.\n",
    "\n",
    "Llamaremos \"min_freq\" a la frecuencia mínima de aparición de un token para considerarlo dentro del vocabulario/diccionario. Debe ser un número entero.\n",
    "\n",
    "Llamaremos \"midicc\" al nuevo diccionario que generes con tokens de frecuencia natural (es decir, de conteo) mayor o igual a \"min_freq\"."
   ]
  },
  {
   "cell_type": "code",
   "execution_count": null,
   "metadata": {
    "id": "t9tAWyXYK7Ej"
   },
   "outputs": [],
   "source": [
    "##############################################################################\n",
    "# AGREGA AQUÍ TUS LÍNEAS DE CÓDIGO - Pregunta 7:\n",
    "\n",
    "min_freq = None\n",
    "\n",
    "midicc = None\n",
    "\n",
    "\n",
    "# FIN PARA AGREGAR TUS LÍNEAS DE CÓDIGO.\n",
    "##############################################################################\n",
    "\n",
    "print('Nueva longitud del nuevo vocabulario:', len(midicc))\n",
    "print(list(midicc.items())[0:5])     # veamos algunos elementos del diccionario."
   ]
  },
  {
   "cell_type": "markdown",
   "metadata": {
    "id": "CDA2xvl_StVP"
   },
   "source": [
    "###Filtremos los conjuntos Train, Validation y Test con respecto al nuevo vocabulario propuesto:"
   ]
  },
  {
   "cell_type": "code",
   "execution_count": null,
   "metadata": {
    "id": "d1np99AiTQQT"
   },
   "outputs": [],
   "source": [
    "train_x = []\n",
    "for ss in x_train:\n",
    "  train_x.append([w for w in ss if w in midicc])\n",
    "\n",
    "val_x = []\n",
    "for ss in x_val:\n",
    "  val_x.append([w for w in ss if w in midicc])\n",
    "\n",
    "test_x = []\n",
    "for ss in x_test:\n",
    "  test_x.append([w for w in ss if w in midicc])"
   ]
  },
  {
   "cell_type": "code",
   "execution_count": null,
   "metadata": {
    "id": "NTfkWb_DUAsE"
   },
   "outputs": [],
   "source": [
    "# Podemos ver algunos de los comentarios de entrenamiento, antes y después \n",
    "# de incluir la condición de la frecuencia mínima de ocurrencia de un token:\n",
    "\n",
    "for k in range(3):\n",
    "  print('Antes:', x_train[k])\n",
    "  print('Después:', train_x[k])"
   ]
  },
  {
   "cell_type": "markdown",
   "metadata": {
    "id": "lwnhTff1Pgh8"
   },
   "source": [
    "###Obtengamos las matrices de conteo document-term-matrix como matrices dispersas (sparse matrices ). Para ello requerimos que cada comentario esté como un solo string."
   ]
  },
  {
   "cell_type": "code",
   "execution_count": null,
   "metadata": {
    "id": "XTeYtxD6QTzO"
   },
   "outputs": [],
   "source": [
    "train_x_docs = []\n",
    "for k in range(len(train_x)):\n",
    "  train_x_docs.append(' '.join(train_x[k]))\n",
    "\n",
    "val_x_docs = []\n",
    "for k in range(len(val_x)):\n",
    "  val_x_docs.append(' '.join(val_x[k]))\n",
    "\n",
    "test_x_docs = []\n",
    "for k in range(len(test_x)):\n",
    "  test_x_docs.append(' '.join(test_x[k]))\n",
    "\n",
    "\n",
    "\n",
    "# Verifica que los primeros comentarios de Train están cada uno como un solo string:\n",
    "for k in range(3):\n",
    "  print(train_x_docs[k])"
   ]
  },
  {
   "cell_type": "markdown",
   "metadata": {
    "id": "XvZYTeJFR2Ue"
   },
   "source": [
    "###Ahora generemos las matrices sparse en su formato predeterminado CSR de estas matrices de conteo:"
   ]
  },
  {
   "cell_type": "code",
   "execution_count": null,
   "metadata": {
    "id": "E5FGslE6PYlM"
   },
   "outputs": [],
   "source": [
    "mivocab = list(midicc.keys())     # Obtenemos nuestro vocabulario de tokens/palabras.\n",
    "\n",
    "#mivocab.sort()    # Usualmente se ordenan alfabéticamente, pero para visualizar algunos de los valores \n",
    "                   # no cero de las matrices, por el momento no lo haremos.\n",
    "\n",
    "\n",
    "\n",
    "# Generamos las matrices dispersas requeridas con base al conteo de los tokens:\n",
    "from sklearn.feature_extraction.text import CountVectorizer\n",
    "\n",
    "countvectorizer = CountVectorizer(vocabulary=mivocab)\n",
    "train_x_count = countvectorizer.fit_transform(train_x_docs)     \n",
    "val_x_count = countvectorizer.transform(val_x_docs) \n",
    "test_x_count = countvectorizer.transform(test_x_docs)\n",
    "\n",
    "count_tokens = countvectorizer.get_feature_names_out()\n",
    "df_countvect = pd.DataFrame(data = train_x_count.toarray(),  columns = count_tokens)  \n",
    "print(df_countvect.iloc[0:3,6:18])   # veamos las frecuencias de los primeros comentarios."
   ]
  },
  {
   "cell_type": "code",
   "execution_count": null,
   "metadata": {
    "id": "ADFOT_HuVyRT"
   },
   "outputs": [],
   "source": [
    "p_sparse = 1 - train_x_count.count_nonzero() / (train_x_count.shape[0] * train_x_count.shape[1])    # Sparsity : Porcentaje de valores de 0.\n",
    "print('Porcentaje de valores cero de la matriz sparse de entrenamiento: %.1f%%' % (100*p_sparse))"
   ]
  },
  {
   "cell_type": "markdown",
   "metadata": {
    "id": "L-S6wtXrXyJI"
   },
   "source": [
    "##**Pregunta - 8:**"
   ]
  },
  {
   "cell_type": "markdown",
   "metadata": {
    "id": "f8MQL5_HYBp4"
   },
   "source": [
    "En este ejercicio deberás ahora generar las matrices dispersas TF-IDF para los conjuntos de entrenamiento, validación y prueba.\n",
    "\n",
    "Deberás usar el vocabulario \"mivocab\" para generar dichas matrices.\n",
    "\n",
    "Dichas matrices las llamaremos \"train_x_tfidf\", \"val_x_tfidf\" y \"test_x_tfidf\".\n",
    "\n",
    "Deberás agregar además las librerías o módulos necesarios. \n",
    "\n",
    "Al final imprime los valores de algunos tokens de los primeros tres comentarios."
   ]
  },
  {
   "cell_type": "code",
   "execution_count": null,
   "metadata": {
    "id": "2XnZSfRiYqqw"
   },
   "outputs": [],
   "source": [
    "##############################################################################\n",
    "# AGREGA AQUÍ TUS LÍNEAS DE CÓDIGO - Pregunta 8:\n",
    "\n",
    "\n",
    "\n",
    "None\n",
    "\n",
    "\n",
    "\n",
    "# FIN PARA AGREGAR TUS LÍNEAS DE CÓDIGO.\n",
    "##############################################################################"
   ]
  },
  {
   "cell_type": "markdown",
   "metadata": {
    "id": "bPl1-LILa2ya"
   },
   "source": [
    "##**Pregunta - 9:**"
   ]
  },
  {
   "cell_type": "markdown",
   "metadata": {
    "id": "RvJ1-GhNa8NP"
   },
   "source": [
    "###A continuación, usando Sklearn, deberás aplicar los modelos de regresión logística (lo llamaremos modeloLRcount), ranfom-forest para clasificación (lo llamaremos modeloRFcount) y naive-bayes en su opción MultinomialNB (lo llamaremos modeloNBcount). \n",
    "\n",
    "###Deberás de utilizar las matrices de conteo \"train_x_count\", \"val_x_count\" y \"test_x_count\".\n",
    "\n",
    "###Con el mejor modelo obtenido, se usará el conjunto de prueba (test) para obtener el desempeño (Accuracy) final y su matriz de confusión.\n",
    "\n",
    "###Simplemente deberás buscar los mejores hiperparámetros de cada modelo. \n",
    "\n",
    "###No es necesario usar por el momento validación-cruzada (cross-validation).\n",
    "\n",
    "###Puedes probar primero cada uno de manera independiente para la búsqueda de los mejores hiperparámetros y ya que los tengas, incluir aquí tus mejores modelos de cada uno."
   ]
  },
  {
   "cell_type": "code",
   "execution_count": null,
   "metadata": {
    "id": "6Plkf1hBX1D7"
   },
   "outputs": [],
   "source": [
    "from sklearn.linear_model import LogisticRegression\n",
    "from sklearn.ensemble import RandomForestClassifier\n",
    "from sklearn.naive_bayes import MultinomialNB"
   ]
  },
  {
   "cell_type": "code",
   "execution_count": null,
   "metadata": {
    "id": "YQ7FyoOvjcXh"
   },
   "outputs": [],
   "source": [
    "##############################################################################\n",
    "# AGREGA AQUÍ TUS LÍNEAS DE CÓDIGO - Pregunta 9:\n",
    "\n",
    "\n",
    "modeloLRcount = None\n",
    "\n",
    "\n",
    "\n",
    "modeloRFcount = None\n",
    "\n",
    "\n",
    "\n",
    "\n",
    "modeloNBcount = None\n",
    "\n",
    "\n",
    "\n",
    "\n",
    "\n",
    "# FIN PARA AGREGAR TUS LÍNEAS DE CÓDIGO.\n",
    "##############################################################################\n",
    "\n",
    "\n",
    "print('LR: Train-accuracy: %.2f%%' % (100*modeloLRcount.score(train_x_count, y_train)))\n",
    "print('LR: Val-accuracy: %2.f%%' % (100*modeloLRcount.score(val_x_count, y_val)))\n",
    "\n",
    "print('\\nRF: Train-accuracy: %.2f%%' % (100*modeloRFcount.score(train_x_count, y_train)))\n",
    "print('RF: Val-accuracy: %.2f%%' % (100*modeloRFcount.score(val_x_count, y_val)))\n",
    "\n",
    "print('\\nNB: Train-accuracy: %.2f%%' % (100*modeloNBcount.score(train_x_count, y_train)))\n",
    "print('NB: Val-accuracy: %.2f%%' % (100*modeloNBcount.score(val_x_count, y_val)))"
   ]
  },
  {
   "cell_type": "code",
   "execution_count": null,
   "metadata": {
    "id": "RGlYDiAof3Wq"
   },
   "outputs": [],
   "source": [
    "##############################################################################\n",
    "# AGREGA AQUÍ EL NOMBRE DE TU MEJOR MODELO OBTENIDO CON COUNTER:\n",
    "\n",
    "mejor_modelo_Count = None # incluye el nombre, modeloXXcount, de tu mejor modelo.\n",
    "\n",
    "# FIN PARA AGREGAR TUS LÍNEAS DE CÓDIGO.\n",
    "##############################################################################\n",
    "\n",
    "\n",
    "\n",
    "print('Test-accuracy con el mejor modelo de Conteo %.2f%%' % (100*mejor_modelo_Count.score(test_x_count, y_test)))\n",
    "\n",
    "from sklearn.metrics import confusion_matrix\n",
    "\n",
    "pred = mejor_modelo_Count.predict(test_x_count)\n",
    "print('\\nMatriz de confusión con el mejor modelo de Conteo:')\n",
    "print(confusion_matrix(y_test, pred, labels=[0,1]))\n",
    "\n",
    "print('\\nMatriz de confusión con el mejor modelo de Conteo en proporciones:')\n",
    "print(confusion_matrix(y_test, pred, labels=[0,1]) / pred.shape[0])"
   ]
  },
  {
   "cell_type": "markdown",
   "metadata": {
    "id": "dfMzR65Hhs-h"
   },
   "source": [
    "##**Pregunta - 10:**"
   ]
  },
  {
   "cell_type": "markdown",
   "metadata": {
    "id": "OIU6j92_iTDh"
   },
   "source": [
    "###Deberás repetir el ejercicio anterior, pero usando ahora las matrices TF-IDF obtenidas previamente: \"train_x_tfidf\", \"val_x_tfidf\" y \"test_x_tfidf\".\n",
    "\n",
    "###Llamaremos a los modelos modeloXXtfidf, para LR, RF y NB."
   ]
  },
  {
   "cell_type": "code",
   "execution_count": null,
   "metadata": {
    "id": "QZ_IF9jxdjkv"
   },
   "outputs": [],
   "source": [
    "##############################################################################\n",
    "# AGREGA AQUÍ TUS LÍNEAS DE CÓDIGO - Pregunta 10:\n",
    "\n",
    "\n",
    "modeloLRtfidf = None\n",
    "\n",
    "\n",
    "\n",
    "modeloRFtfidf = None\n",
    "\n",
    "\n",
    "\n",
    "\n",
    "modeloNBtfidf = None\n",
    "\n",
    "\n",
    "\n",
    "\n",
    "\n",
    "# FIN PARA AGREGAR TUS LÍNEAS DE CÓDIGO.\n",
    "##############################################################################\n",
    "\n",
    "\n",
    "print('Resultados parciales con matrices tf-idf:')\n",
    "print('\\nLR: Train-accuracy: %.2f%%' % (100*modeloLRtfidf.score(train_x_tfidf, y_train)))\n",
    "print('LR: Val-accuracy: %2.f%%' % (100*modeloLRtfidf.score(val_x_tfidf, y_val)))\n",
    "\n",
    "print('\\nRF: Train-accuracy: %.2f%%' % (100*modeloRFtfidf.score(train_x_tfidf, y_train)))\n",
    "print('RF: Val-accuracy: %.2f%%' % (100*modeloRFtfidf.score(val_x_tfidf, y_val)))\n",
    "\n",
    "print('\\nNB: Train-accuracy: %.2f%%' % (100*modeloNBtfidf.score(train_x_tfidf, y_train)))\n",
    "print('NB: Val-accuracy: %.2f%%' % (100*modeloNBtfidf.score(val_x_tfidf, y_val)))"
   ]
  },
  {
   "cell_type": "code",
   "execution_count": null,
   "metadata": {
    "id": "Fk-cvsF3djd8"
   },
   "outputs": [],
   "source": [
    "##############################################################################\n",
    "# AGREGA AQUÍ EL NOMBRE DE TU MEJOR MODELO OBTENIDO CON TF-IDF:\n",
    "\n",
    "mejor_modelo_Tfidf = None # incluye el nombre, modeloXXtfidf, de tu mejor modelo.\n",
    "\n",
    "# FIN PARA AGREGAR TUS LÍNEAS DE CÓDIGO.\n",
    "##############################################################################\n",
    "\n",
    "\n",
    "\n",
    "print('Test-accuracy con el mejor modelo Tf-idf %.2f%%' % (100*mejor_modelo_Tfidf.score(test_x_tfidf, y_test)))\n",
    "\n",
    "pred = mejor_modelo_Tfidf.predict(test_x_tfidf)\n",
    "print('\\nMatriz de confusión con el mejor modelo Tf-idf:')\n",
    "print(confusion_matrix(y_test, pred, labels=[0,1]))\n",
    "\n",
    "print('\\nMatriz de confusión con el mejor modelo de Tf-idf en proporciones:')\n",
    "print(confusion_matrix(y_test, pred, labels=[0,1]) / pred.shape[0])"
   ]
  },
  {
   "cell_type": "markdown",
   "metadata": {
    "id": "T2i2LXPBqVRS"
   },
   "source": [
    "##**Pregunta - 11:**"
   ]
  },
  {
   "cell_type": "markdown",
   "metadata": {
    "id": "QNHZDkH7qXDy"
   },
   "source": [
    "###Finalmente incluye tus conclusiones finales de la Actividad. \n",
    "\n",
    "###En particular, indica cuál técnica resultó mejor en este problema, ¿usando matrices de conteo o tf-idf?\n",
    "\n",
    "###Indica también a qué crees que se debe la diferencia entre los valores de los Falsos-Negativos y Falsos-Positivos de la mejor matriz de confusión que obtuviste. ¿Qué implicaciones podrían tener cada uno de estos errores?\n",
    "\n",
    "##**Como nota complementaria, se esperaría que tu mejor modelo final mínimamente debiera alcanzar un 72% de buen desempeño (accuracy), pero puede ser mayor.**"
   ]
  },
  {
   "cell_type": "markdown",
   "metadata": {
    "id": "WRF0z0gorGh1"
   },
   "source": [
    "######################################################################\n",
    "###### **AGREGA AQUÍ TUS CONCLUSIONES FINALES - Pregunta 11:**\n",
    "\n",
    "\n",
    "None\n",
    "\n",
    "\n",
    "###### **FIN PARA AGREGAR TUS CONCLUSIONES FINALES.**\n",
    "######################################################################"
   ]
  },
  {
   "cell_type": "markdown",
   "metadata": {
    "id": "IDvRXhA_rdBy"
   },
   "source": [
    "#**FIN DE LA ACTIVIDAD DE LAS SEMANAS 3 Y 4**"
   ]
  }
 ],
 "metadata": {
  "colab": {
   "collapsed_sections": [
    "4c34ZOnna3Gu",
    "MfZZ0stLmWJN",
    "qzKiZYuhoHor",
    "xcT5_EvAHIaE",
    "IXc4Z2m6WMUq",
    "1iurTQ-X5WdC",
    "m1GlIF47I15k",
    "L-S6wtXrXyJI",
    "bPl1-LILa2ya",
    "dfMzR65Hhs-h",
    "T2i2LXPBqVRS"
   ],
   "provenance": []
  },
  "kernelspec": {
   "display_name": "Python 3 (ipykernel)",
   "language": "python",
   "name": "python3"
  },
  "language_info": {
   "codemirror_mode": {
    "name": "ipython",
    "version": 3
   },
   "file_extension": ".py",
   "mimetype": "text/x-python",
   "name": "python",
   "nbconvert_exporter": "python",
   "pygments_lexer": "ipython3",
   "version": "3.9.13"
  }
 },
 "nbformat": 4,
 "nbformat_minor": 1
}
